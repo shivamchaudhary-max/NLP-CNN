{
 "cells": [
  {
   "cell_type": "code",
   "execution_count": 1,
   "id": "ac4b839a",
   "metadata": {
    "execution": {
     "iopub.execute_input": "2022-01-04T16:14:38.749141Z",
     "iopub.status.busy": "2022-01-04T16:14:38.748531Z",
     "iopub.status.idle": "2022-01-04T16:14:43.739509Z",
     "shell.execute_reply": "2022-01-04T16:14:43.738837Z"
    },
    "id": "Fg26fyxVCzlo",
    "papermill": {
     "duration": 5.040945,
     "end_time": "2022-01-04T16:14:43.739699",
     "exception": false,
     "start_time": "2022-01-04T16:14:38.698754",
     "status": "completed"
    },
    "tags": []
   },
   "outputs": [],
   "source": [
    "import tensorflow as tf\n"
   ]
  },
  {
   "cell_type": "code",
   "execution_count": 2,
   "id": "a627797f",
   "metadata": {
    "execution": {
     "iopub.execute_input": "2022-01-04T16:14:43.822127Z",
     "iopub.status.busy": "2022-01-04T16:14:43.821502Z",
     "iopub.status.idle": "2022-01-04T16:14:43.824115Z",
     "shell.execute_reply": "2022-01-04T16:14:43.823570Z"
    },
    "id": "ZYT14QO-IAiQ",
    "papermill": {
     "duration": 0.044923,
     "end_time": "2022-01-04T16:14:43.824245",
     "exception": false,
     "start_time": "2022-01-04T16:14:43.779322",
     "status": "completed"
    },
    "tags": []
   },
   "outputs": [],
   "source": [
    "import numpy as np\n",
    "import pandas as pd"
   ]
  },
  {
   "cell_type": "code",
   "execution_count": 3,
   "id": "4106aebf",
   "metadata": {
    "execution": {
     "iopub.execute_input": "2022-01-04T16:14:43.904232Z",
     "iopub.status.busy": "2022-01-04T16:14:43.903600Z",
     "iopub.status.idle": "2022-01-04T16:14:44.918012Z",
     "shell.execute_reply": "2022-01-04T16:14:44.917388Z"
    },
    "id": "mMiKkANTIE5Q",
    "papermill": {
     "duration": 1.055535,
     "end_time": "2022-01-04T16:14:44.918162",
     "exception": false,
     "start_time": "2022-01-04T16:14:43.862627",
     "status": "completed"
    },
    "tags": []
   },
   "outputs": [],
   "source": [
    "import matplotlib.pyplot as plt\n",
    "from sklearn.model_selection import train_test_split"
   ]
  },
  {
   "cell_type": "code",
   "execution_count": 4,
   "id": "2e760e0b",
   "metadata": {
    "execution": {
     "iopub.execute_input": "2022-01-04T16:14:45.005484Z",
     "iopub.status.busy": "2022-01-04T16:14:45.004786Z",
     "iopub.status.idle": "2022-01-04T16:14:46.092551Z",
     "shell.execute_reply": "2022-01-04T16:14:46.093024Z"
    },
    "id": "OGBJkDwwIVgJ",
    "papermill": {
     "duration": 1.134222,
     "end_time": "2022-01-04T16:14:46.093214",
     "exception": false,
     "start_time": "2022-01-04T16:14:44.958992",
     "status": "completed"
    },
    "tags": []
   },
   "outputs": [],
   "source": [
    "from tensorflow.keras.preprocessing.text import Tokenizer\n",
    "from tensorflow.keras.preprocessing.sequence import pad_sequences\n",
    "from tensorflow.keras.layers import Dense,Input,GlobalMaxPool1D\n",
    "from tensorflow.keras.layers import Conv1D,MaxPooling1D,Embedding\n",
    "from tensorflow.keras.models import Model\n",
    "from tensorflow.keras.layers import LSTM,Embedding"
   ]
  },
  {
   "cell_type": "code",
   "execution_count": 5,
   "id": "0609f872",
   "metadata": {
    "execution": {
     "iopub.execute_input": "2022-01-04T16:14:46.177471Z",
     "iopub.status.busy": "2022-01-04T16:14:46.176789Z",
     "iopub.status.idle": "2022-01-04T16:14:46.215125Z",
     "shell.execute_reply": "2022-01-04T16:14:46.216077Z"
    },
    "id": "6mJ9msLWI9-5",
    "papermill": {
     "duration": 0.08397,
     "end_time": "2022-01-04T16:14:46.216335",
     "exception": false,
     "start_time": "2022-01-04T16:14:46.132365",
     "status": "completed"
    },
    "tags": []
   },
   "outputs": [],
   "source": [
    "df=pd.read_csv('../input/spamcsv/spam.csv',encoding='ISO-8859-1')\n"
   ]
  },
  {
   "cell_type": "code",
   "execution_count": 6,
   "id": "1d3d71c7",
   "metadata": {
    "execution": {
     "iopub.execute_input": "2022-01-04T16:14:46.310923Z",
     "iopub.status.busy": "2022-01-04T16:14:46.310241Z",
     "iopub.status.idle": "2022-01-04T16:14:46.329865Z",
     "shell.execute_reply": "2022-01-04T16:14:46.330346Z"
    },
    "id": "mb--VCppJOM1",
    "outputId": "90076aff-3cb0-4cf3-88cd-0bb58e14e059",
    "papermill": {
     "duration": 0.061874,
     "end_time": "2022-01-04T16:14:46.330537",
     "exception": false,
     "start_time": "2022-01-04T16:14:46.268663",
     "status": "completed"
    },
    "tags": []
   },
   "outputs": [
    {
     "data": {
      "text/html": [
       "<div>\n",
       "<style scoped>\n",
       "    .dataframe tbody tr th:only-of-type {\n",
       "        vertical-align: middle;\n",
       "    }\n",
       "\n",
       "    .dataframe tbody tr th {\n",
       "        vertical-align: top;\n",
       "    }\n",
       "\n",
       "    .dataframe thead th {\n",
       "        text-align: right;\n",
       "    }\n",
       "</style>\n",
       "<table border=\"1\" class=\"dataframe\">\n",
       "  <thead>\n",
       "    <tr style=\"text-align: right;\">\n",
       "      <th></th>\n",
       "      <th>v1</th>\n",
       "      <th>v2</th>\n",
       "      <th>Unnamed: 2</th>\n",
       "      <th>Unnamed: 3</th>\n",
       "      <th>Unnamed: 4</th>\n",
       "    </tr>\n",
       "  </thead>\n",
       "  <tbody>\n",
       "    <tr>\n",
       "      <th>0</th>\n",
       "      <td>ham</td>\n",
       "      <td>Go until jurong point, crazy.. Available only ...</td>\n",
       "      <td>NaN</td>\n",
       "      <td>NaN</td>\n",
       "      <td>NaN</td>\n",
       "    </tr>\n",
       "    <tr>\n",
       "      <th>1</th>\n",
       "      <td>ham</td>\n",
       "      <td>Ok lar... Joking wif u oni...</td>\n",
       "      <td>NaN</td>\n",
       "      <td>NaN</td>\n",
       "      <td>NaN</td>\n",
       "    </tr>\n",
       "    <tr>\n",
       "      <th>2</th>\n",
       "      <td>spam</td>\n",
       "      <td>Free entry in 2 a wkly comp to win FA Cup fina...</td>\n",
       "      <td>NaN</td>\n",
       "      <td>NaN</td>\n",
       "      <td>NaN</td>\n",
       "    </tr>\n",
       "    <tr>\n",
       "      <th>3</th>\n",
       "      <td>ham</td>\n",
       "      <td>U dun say so early hor... U c already then say...</td>\n",
       "      <td>NaN</td>\n",
       "      <td>NaN</td>\n",
       "      <td>NaN</td>\n",
       "    </tr>\n",
       "    <tr>\n",
       "      <th>4</th>\n",
       "      <td>ham</td>\n",
       "      <td>Nah I don't think he goes to usf, he lives aro...</td>\n",
       "      <td>NaN</td>\n",
       "      <td>NaN</td>\n",
       "      <td>NaN</td>\n",
       "    </tr>\n",
       "  </tbody>\n",
       "</table>\n",
       "</div>"
      ],
      "text/plain": [
       "     v1                                                 v2 Unnamed: 2  \\\n",
       "0   ham  Go until jurong point, crazy.. Available only ...        NaN   \n",
       "1   ham                      Ok lar... Joking wif u oni...        NaN   \n",
       "2  spam  Free entry in 2 a wkly comp to win FA Cup fina...        NaN   \n",
       "3   ham  U dun say so early hor... U c already then say...        NaN   \n",
       "4   ham  Nah I don't think he goes to usf, he lives aro...        NaN   \n",
       "\n",
       "  Unnamed: 3 Unnamed: 4  \n",
       "0        NaN        NaN  \n",
       "1        NaN        NaN  \n",
       "2        NaN        NaN  \n",
       "3        NaN        NaN  \n",
       "4        NaN        NaN  "
      ]
     },
     "execution_count": 6,
     "metadata": {},
     "output_type": "execute_result"
    }
   ],
   "source": [
    "df.head()"
   ]
  },
  {
   "cell_type": "code",
   "execution_count": 7,
   "id": "a52e9699",
   "metadata": {
    "execution": {
     "iopub.execute_input": "2022-01-04T16:14:46.420080Z",
     "iopub.status.busy": "2022-01-04T16:14:46.412564Z",
     "iopub.status.idle": "2022-01-04T16:14:46.422960Z",
     "shell.execute_reply": "2022-01-04T16:14:46.422398Z"
    },
    "id": "ZuqaAhGrJYYN",
    "papermill": {
     "duration": 0.052383,
     "end_time": "2022-01-04T16:14:46.423109",
     "exception": false,
     "start_time": "2022-01-04T16:14:46.370726",
     "status": "completed"
    },
    "tags": []
   },
   "outputs": [],
   "source": [
    "#drop garbage columns\n",
    "df=df.drop([\"Unnamed: 2\",\"Unnamed: 3\",\"Unnamed: 4\"],axis=1)"
   ]
  },
  {
   "cell_type": "code",
   "execution_count": 8,
   "id": "ecc19c37",
   "metadata": {
    "execution": {
     "iopub.execute_input": "2022-01-04T16:14:46.510990Z",
     "iopub.status.busy": "2022-01-04T16:14:46.510078Z",
     "iopub.status.idle": "2022-01-04T16:14:46.514132Z",
     "shell.execute_reply": "2022-01-04T16:14:46.514634Z"
    },
    "id": "IWjbosy7JySt",
    "outputId": "55e40107-1dd7-4b81-bfe2-136593eb91c0",
    "papermill": {
     "duration": 0.051824,
     "end_time": "2022-01-04T16:14:46.514803",
     "exception": false,
     "start_time": "2022-01-04T16:14:46.462979",
     "status": "completed"
    },
    "tags": []
   },
   "outputs": [
    {
     "data": {
      "text/html": [
       "<div>\n",
       "<style scoped>\n",
       "    .dataframe tbody tr th:only-of-type {\n",
       "        vertical-align: middle;\n",
       "    }\n",
       "\n",
       "    .dataframe tbody tr th {\n",
       "        vertical-align: top;\n",
       "    }\n",
       "\n",
       "    .dataframe thead th {\n",
       "        text-align: right;\n",
       "    }\n",
       "</style>\n",
       "<table border=\"1\" class=\"dataframe\">\n",
       "  <thead>\n",
       "    <tr style=\"text-align: right;\">\n",
       "      <th></th>\n",
       "      <th>v1</th>\n",
       "      <th>v2</th>\n",
       "    </tr>\n",
       "  </thead>\n",
       "  <tbody>\n",
       "    <tr>\n",
       "      <th>0</th>\n",
       "      <td>ham</td>\n",
       "      <td>Go until jurong point, crazy.. Available only ...</td>\n",
       "    </tr>\n",
       "    <tr>\n",
       "      <th>1</th>\n",
       "      <td>ham</td>\n",
       "      <td>Ok lar... Joking wif u oni...</td>\n",
       "    </tr>\n",
       "    <tr>\n",
       "      <th>2</th>\n",
       "      <td>spam</td>\n",
       "      <td>Free entry in 2 a wkly comp to win FA Cup fina...</td>\n",
       "    </tr>\n",
       "    <tr>\n",
       "      <th>3</th>\n",
       "      <td>ham</td>\n",
       "      <td>U dun say so early hor... U c already then say...</td>\n",
       "    </tr>\n",
       "    <tr>\n",
       "      <th>4</th>\n",
       "      <td>ham</td>\n",
       "      <td>Nah I don't think he goes to usf, he lives aro...</td>\n",
       "    </tr>\n",
       "  </tbody>\n",
       "</table>\n",
       "</div>"
      ],
      "text/plain": [
       "     v1                                                 v2\n",
       "0   ham  Go until jurong point, crazy.. Available only ...\n",
       "1   ham                      Ok lar... Joking wif u oni...\n",
       "2  spam  Free entry in 2 a wkly comp to win FA Cup fina...\n",
       "3   ham  U dun say so early hor... U c already then say...\n",
       "4   ham  Nah I don't think he goes to usf, he lives aro..."
      ]
     },
     "execution_count": 8,
     "metadata": {},
     "output_type": "execute_result"
    }
   ],
   "source": [
    "df.head()"
   ]
  },
  {
   "cell_type": "code",
   "execution_count": 9,
   "id": "0e281097",
   "metadata": {
    "execution": {
     "iopub.execute_input": "2022-01-04T16:14:46.598532Z",
     "iopub.status.busy": "2022-01-04T16:14:46.597860Z",
     "iopub.status.idle": "2022-01-04T16:14:46.601372Z",
     "shell.execute_reply": "2022-01-04T16:14:46.601916Z"
    },
    "id": "tyWIWcCKJ0_3",
    "papermill": {
     "duration": 0.047022,
     "end_time": "2022-01-04T16:14:46.602086",
     "exception": false,
     "start_time": "2022-01-04T16:14:46.555064",
     "status": "completed"
    },
    "tags": []
   },
   "outputs": [],
   "source": [
    "#rename the columns\n",
    "df.columns=['Labels','Data']"
   ]
  },
  {
   "cell_type": "code",
   "execution_count": 10,
   "id": "e313b9f3",
   "metadata": {
    "execution": {
     "iopub.execute_input": "2022-01-04T16:14:46.686710Z",
     "iopub.status.busy": "2022-01-04T16:14:46.685758Z",
     "iopub.status.idle": "2022-01-04T16:14:46.694577Z",
     "shell.execute_reply": "2022-01-04T16:14:46.695151Z"
    },
    "id": "5SfSvigxKEC9",
    "outputId": "b4b1b3b5-4fe7-4f5f-e873-1cad81b32a2d",
    "papermill": {
     "duration": 0.052578,
     "end_time": "2022-01-04T16:14:46.695319",
     "exception": false,
     "start_time": "2022-01-04T16:14:46.642741",
     "status": "completed"
    },
    "tags": []
   },
   "outputs": [
    {
     "data": {
      "text/html": [
       "<div>\n",
       "<style scoped>\n",
       "    .dataframe tbody tr th:only-of-type {\n",
       "        vertical-align: middle;\n",
       "    }\n",
       "\n",
       "    .dataframe tbody tr th {\n",
       "        vertical-align: top;\n",
       "    }\n",
       "\n",
       "    .dataframe thead th {\n",
       "        text-align: right;\n",
       "    }\n",
       "</style>\n",
       "<table border=\"1\" class=\"dataframe\">\n",
       "  <thead>\n",
       "    <tr style=\"text-align: right;\">\n",
       "      <th></th>\n",
       "      <th>Labels</th>\n",
       "      <th>Data</th>\n",
       "    </tr>\n",
       "  </thead>\n",
       "  <tbody>\n",
       "    <tr>\n",
       "      <th>0</th>\n",
       "      <td>ham</td>\n",
       "      <td>Go until jurong point, crazy.. Available only ...</td>\n",
       "    </tr>\n",
       "    <tr>\n",
       "      <th>1</th>\n",
       "      <td>ham</td>\n",
       "      <td>Ok lar... Joking wif u oni...</td>\n",
       "    </tr>\n",
       "    <tr>\n",
       "      <th>2</th>\n",
       "      <td>spam</td>\n",
       "      <td>Free entry in 2 a wkly comp to win FA Cup fina...</td>\n",
       "    </tr>\n",
       "    <tr>\n",
       "      <th>3</th>\n",
       "      <td>ham</td>\n",
       "      <td>U dun say so early hor... U c already then say...</td>\n",
       "    </tr>\n",
       "    <tr>\n",
       "      <th>4</th>\n",
       "      <td>ham</td>\n",
       "      <td>Nah I don't think he goes to usf, he lives aro...</td>\n",
       "    </tr>\n",
       "  </tbody>\n",
       "</table>\n",
       "</div>"
      ],
      "text/plain": [
       "  Labels                                               Data\n",
       "0    ham  Go until jurong point, crazy.. Available only ...\n",
       "1    ham                      Ok lar... Joking wif u oni...\n",
       "2   spam  Free entry in 2 a wkly comp to win FA Cup fina...\n",
       "3    ham  U dun say so early hor... U c already then say...\n",
       "4    ham  Nah I don't think he goes to usf, he lives aro..."
      ]
     },
     "execution_count": 10,
     "metadata": {},
     "output_type": "execute_result"
    }
   ],
   "source": [
    "df.head()"
   ]
  },
  {
   "cell_type": "code",
   "execution_count": 11,
   "id": "7ce7b608",
   "metadata": {
    "execution": {
     "iopub.execute_input": "2022-01-04T16:14:46.789231Z",
     "iopub.status.busy": "2022-01-04T16:14:46.781359Z",
     "iopub.status.idle": "2022-01-04T16:14:46.790987Z",
     "shell.execute_reply": "2022-01-04T16:14:46.791427Z"
    },
    "id": "ZVKAEwHMKGX-",
    "papermill": {
     "duration": 0.054222,
     "end_time": "2022-01-04T16:14:46.791616",
     "exception": false,
     "start_time": "2022-01-04T16:14:46.737394",
     "status": "completed"
    },
    "tags": []
   },
   "outputs": [],
   "source": [
    "#create a binary label\n",
    "df['bin_labels']=df['Labels'].map({'ham':0,'spam':1})"
   ]
  },
  {
   "cell_type": "code",
   "execution_count": 12,
   "id": "4b5acc01",
   "metadata": {
    "execution": {
     "iopub.execute_input": "2022-01-04T16:14:46.879713Z",
     "iopub.status.busy": "2022-01-04T16:14:46.879050Z",
     "iopub.status.idle": "2022-01-04T16:14:46.880919Z",
     "shell.execute_reply": "2022-01-04T16:14:46.881342Z"
    },
    "id": "u_YwhXJoKfBV",
    "papermill": {
     "duration": 0.047641,
     "end_time": "2022-01-04T16:14:46.881531",
     "exception": false,
     "start_time": "2022-01-04T16:14:46.833890",
     "status": "completed"
    },
    "tags": []
   },
   "outputs": [],
   "source": [
    "y=df['bin_labels'].values"
   ]
  },
  {
   "cell_type": "code",
   "execution_count": 13,
   "id": "ee57c809",
   "metadata": {
    "execution": {
     "iopub.execute_input": "2022-01-04T16:14:46.967980Z",
     "iopub.status.busy": "2022-01-04T16:14:46.966998Z",
     "iopub.status.idle": "2022-01-04T16:14:46.973974Z",
     "shell.execute_reply": "2022-01-04T16:14:46.973180Z"
    },
    "id": "THPyQ8bMK0A4",
    "outputId": "ee7bc1ad-f9cd-47cd-ce36-066a2111326b",
    "papermill": {
     "duration": 0.050959,
     "end_time": "2022-01-04T16:14:46.974160",
     "exception": false,
     "start_time": "2022-01-04T16:14:46.923201",
     "status": "completed"
    },
    "tags": []
   },
   "outputs": [
    {
     "name": "stdout",
     "output_type": "stream",
     "text": [
      "[0 0 1 ... 0 0 0]\n"
     ]
    }
   ],
   "source": [
    "print(y)"
   ]
  },
  {
   "cell_type": "code",
   "execution_count": 14,
   "id": "34d42a32",
   "metadata": {
    "execution": {
     "iopub.execute_input": "2022-01-04T16:14:47.071264Z",
     "iopub.status.busy": "2022-01-04T16:14:47.070646Z",
     "iopub.status.idle": "2022-01-04T16:14:47.073591Z",
     "shell.execute_reply": "2022-01-04T16:14:47.074021Z"
    },
    "id": "XdgIM6qWLQGf",
    "papermill": {
     "duration": 0.058077,
     "end_time": "2022-01-04T16:14:47.074186",
     "exception": false,
     "start_time": "2022-01-04T16:14:47.016109",
     "status": "completed"
    },
    "tags": []
   },
   "outputs": [],
   "source": [
    "x=df['Data']"
   ]
  },
  {
   "cell_type": "code",
   "execution_count": 15,
   "id": "892fedf9",
   "metadata": {
    "execution": {
     "iopub.execute_input": "2022-01-04T16:14:47.166133Z",
     "iopub.status.busy": "2022-01-04T16:14:47.161456Z",
     "iopub.status.idle": "2022-01-04T16:14:47.168843Z",
     "shell.execute_reply": "2022-01-04T16:14:47.169313Z"
    },
    "id": "PaRfTl9pLaoV",
    "outputId": "da55330c-3f57-4c1a-ece3-7976adab8bd6",
    "papermill": {
     "duration": 0.053629,
     "end_time": "2022-01-04T16:14:47.169520",
     "exception": false,
     "start_time": "2022-01-04T16:14:47.115891",
     "status": "completed"
    },
    "tags": []
   },
   "outputs": [
    {
     "data": {
      "text/plain": [
       "0       Go until jurong point, crazy.. Available only ...\n",
       "1                           Ok lar... Joking wif u oni...\n",
       "2       Free entry in 2 a wkly comp to win FA Cup fina...\n",
       "3       U dun say so early hor... U c already then say...\n",
       "4       Nah I don't think he goes to usf, he lives aro...\n",
       "                              ...                        \n",
       "5567    This is the 2nd time we have tried 2 contact u...\n",
       "5568                Will Ì_ b going to esplanade fr home?\n",
       "5569    Pity, * was in mood for that. So...any other s...\n",
       "5570    The guy did some bitching but I acted like i'd...\n",
       "5571                           Rofl. Its true to its name\n",
       "Name: Data, Length: 5572, dtype: object"
      ]
     },
     "execution_count": 15,
     "metadata": {},
     "output_type": "execute_result"
    }
   ],
   "source": [
    "x"
   ]
  },
  {
   "cell_type": "code",
   "execution_count": 16,
   "id": "62147e74",
   "metadata": {
    "execution": {
     "iopub.execute_input": "2022-01-04T16:14:47.261429Z",
     "iopub.status.busy": "2022-01-04T16:14:47.260589Z",
     "iopub.status.idle": "2022-01-04T16:14:47.263473Z",
     "shell.execute_reply": "2022-01-04T16:14:47.264055Z"
    },
    "id": "sYhU5dYqK2Up",
    "papermill": {
     "duration": 0.052564,
     "end_time": "2022-01-04T16:14:47.264218",
     "exception": false,
     "start_time": "2022-01-04T16:14:47.211654",
     "status": "completed"
    },
    "tags": []
   },
   "outputs": [],
   "source": [
    "#split the data\n",
    "x_train,x_test,y_train,y_test=train_test_split(x,y,test_size=0.33, random_state=0)"
   ]
  },
  {
   "cell_type": "code",
   "execution_count": 17,
   "id": "7cc2cc98",
   "metadata": {
    "execution": {
     "iopub.execute_input": "2022-01-04T16:14:47.354569Z",
     "iopub.status.busy": "2022-01-04T16:14:47.353558Z",
     "iopub.status.idle": "2022-01-04T16:14:47.450944Z",
     "shell.execute_reply": "2022-01-04T16:14:47.451511Z"
    },
    "id": "Kl-4LpALLZw4",
    "papermill": {
     "duration": 0.143492,
     "end_time": "2022-01-04T16:14:47.451694",
     "exception": false,
     "start_time": "2022-01-04T16:14:47.308202",
     "status": "completed"
    },
    "tags": []
   },
   "outputs": [],
   "source": [
    "#convert sentence into tokens\n",
    "max_vocab_size=20000\n",
    "tokenizer=Tokenizer(num_words=max_vocab_size)\n",
    "tokenizer.fit_on_texts(x_train)\n",
    "\n"
   ]
  },
  {
   "cell_type": "code",
   "execution_count": 18,
   "id": "880c3eae",
   "metadata": {
    "execution": {
     "iopub.execute_input": "2022-01-04T16:14:47.540329Z",
     "iopub.status.busy": "2022-01-04T16:14:47.539379Z",
     "iopub.status.idle": "2022-01-04T16:14:47.546166Z",
     "shell.execute_reply": "2022-01-04T16:14:47.546823Z"
    },
    "id": "_GxgzlWNM6yY",
    "outputId": "f0ba456c-da0e-40b1-f004-6b0aa2a7e007",
    "papermill": {
     "duration": 0.053059,
     "end_time": "2022-01-04T16:14:47.547049",
     "exception": false,
     "start_time": "2022-01-04T16:14:47.493990",
     "status": "completed"
    },
    "tags": []
   },
   "outputs": [
    {
     "name": "stdout",
     "output_type": "stream",
     "text": [
      "1245    Hello which the site to download songs its urg...\n",
      "787     Ever thought about living a good life with a p...\n",
      "4840    Hmmm.... Mayb can try e shoppin area one, but ...\n",
      "4916    This is the 2nd time we have tried 2 contact u...\n",
      "3650         Want to send me a virtual hug?... I need one\n",
      "                              ...                        \n",
      "4931                Match started.india  &lt;#&gt;  for 2\n",
      "3264    44 7732584351, Do you want a New Nokia 3510i c...\n",
      "1653    I was at bugis juz now wat... But now i'm walk...\n",
      "2607    :-) yeah! Lol. Luckily i didn't have a starrin...\n",
      "2732    How dare you stupid. I wont tell anything to y...\n",
      "Name: Data, Length: 3733, dtype: object\n"
     ]
    }
   ],
   "source": [
    "print(x_train)"
   ]
  },
  {
   "cell_type": "code",
   "execution_count": 19,
   "id": "efb22690",
   "metadata": {
    "execution": {
     "iopub.execute_input": "2022-01-04T16:14:47.638575Z",
     "iopub.status.busy": "2022-01-04T16:14:47.637903Z",
     "iopub.status.idle": "2022-01-04T16:14:47.640628Z",
     "shell.execute_reply": "2022-01-04T16:14:47.641310Z"
    },
    "id": "lCbKO9YWNUMC",
    "outputId": "c1b8b8e4-799c-4ffa-e84e-547d9582e1c6",
    "papermill": {
     "duration": 0.050982,
     "end_time": "2022-01-04T16:14:47.641552",
     "exception": false,
     "start_time": "2022-01-04T16:14:47.590570",
     "status": "completed"
    },
    "tags": []
   },
   "outputs": [
    {
     "name": "stdout",
     "output_type": "stream",
     "text": [
      "Total no of tokens are:  7150\n"
     ]
    }
   ],
   "source": [
    "#to check the number of words in the vocabulary\n",
    "word2index=tokenizer.word_index\n",
    "V=len(word2index)\n",
    "print('Total no of tokens are: ',V)"
   ]
  },
  {
   "cell_type": "code",
   "execution_count": 20,
   "id": "1b134c5d",
   "metadata": {
    "execution": {
     "iopub.execute_input": "2022-01-04T16:14:47.732612Z",
     "iopub.status.busy": "2022-01-04T16:14:47.731986Z",
     "iopub.status.idle": "2022-01-04T16:14:47.769711Z",
     "shell.execute_reply": "2022-01-04T16:14:47.770228Z"
    },
    "id": "yq3gOer3QVxh",
    "papermill": {
     "duration": 0.084438,
     "end_time": "2022-01-04T16:14:47.770403",
     "exception": false,
     "start_time": "2022-01-04T16:14:47.685965",
     "status": "completed"
    },
    "tags": []
   },
   "outputs": [
    {
     "data": {
      "text/plain": [
       "{'i': 1,\n",
       " 'to': 2,\n",
       " 'you': 3,\n",
       " 'a': 4,\n",
       " 'the': 5,\n",
       " 'u': 6,\n",
       " 'in': 7,\n",
       " 'and': 8,\n",
       " 'is': 9,\n",
       " 'me': 10,\n",
       " 'my': 11,\n",
       " 'for': 12,\n",
       " 'your': 13,\n",
       " 'of': 14,\n",
       " 'it': 15,\n",
       " 'call': 16,\n",
       " 'have': 17,\n",
       " 'that': 18,\n",
       " '2': 19,\n",
       " 'on': 20,\n",
       " 'now': 21,\n",
       " 'are': 22,\n",
       " 'so': 23,\n",
       " 'but': 24,\n",
       " 'not': 25,\n",
       " 'or': 26,\n",
       " 'can': 27,\n",
       " 'do': 28,\n",
       " 'at': 29,\n",
       " 'if': 30,\n",
       " 'get': 31,\n",
       " \"i'm\": 32,\n",
       " 'ur': 33,\n",
       " 'be': 34,\n",
       " 'with': 35,\n",
       " 'just': 36,\n",
       " 'we': 37,\n",
       " 'will': 38,\n",
       " 'this': 39,\n",
       " 'no': 40,\n",
       " '4': 41,\n",
       " 'up': 42,\n",
       " 'lt': 43,\n",
       " 'gt': 44,\n",
       " 'when': 45,\n",
       " 'ok': 46,\n",
       " 'go': 47,\n",
       " 'all': 48,\n",
       " 'out': 49,\n",
       " 'what': 50,\n",
       " 'free': 51,\n",
       " 'from': 52,\n",
       " 'how': 53,\n",
       " 'know': 54,\n",
       " 'then': 55,\n",
       " 'like': 56,\n",
       " 'am': 57,\n",
       " 'its': 58,\n",
       " 'good': 59,\n",
       " 'got': 60,\n",
       " 'come': 61,\n",
       " 'day': 62,\n",
       " 'time': 63,\n",
       " 'only': 64,\n",
       " 'was': 65,\n",
       " 'send': 66,\n",
       " 'want': 67,\n",
       " 'love': 68,\n",
       " 'there': 69,\n",
       " 'txt': 70,\n",
       " 'stop': 71,\n",
       " 'going': 72,\n",
       " 'home': 73,\n",
       " 'he': 74,\n",
       " 'text': 75,\n",
       " 'need': 76,\n",
       " 'as': 77,\n",
       " 'about': 78,\n",
       " 'one': 79,\n",
       " 'r': 80,\n",
       " 'by': 81,\n",
       " 'lor': 82,\n",
       " \"i'll\": 83,\n",
       " 'still': 84,\n",
       " 'sorry': 85,\n",
       " 'see': 86,\n",
       " 'dont': 87,\n",
       " 'back': 88,\n",
       " 'da': 89,\n",
       " 'any': 90,\n",
       " 'n': 91,\n",
       " 'k': 92,\n",
       " 'reply': 93,\n",
       " 'she': 94,\n",
       " 'today': 95,\n",
       " 'our': 96,\n",
       " 'mobile': 97,\n",
       " 'new': 98,\n",
       " 'later': 99,\n",
       " 'think': 100,\n",
       " 'they': 101,\n",
       " 'ì': 102,\n",
       " 'tell': 103,\n",
       " 'here': 104,\n",
       " \"don't\": 105,\n",
       " 'did': 106,\n",
       " 'an': 107,\n",
       " 'msg': 108,\n",
       " 'phone': 109,\n",
       " 'week': 110,\n",
       " 'take': 111,\n",
       " 'been': 112,\n",
       " 'where': 113,\n",
       " 'dear': 114,\n",
       " 'hi': 115,\n",
       " 'well': 116,\n",
       " 'pls': 117,\n",
       " 'has': 118,\n",
       " '1': 119,\n",
       " 'hey': 120,\n",
       " 'much': 121,\n",
       " 'her': 122,\n",
       " 'hope': 123,\n",
       " 'wat': 124,\n",
       " 'happy': 125,\n",
       " 'please': 126,\n",
       " 'some': 127,\n",
       " 'www': 128,\n",
       " 'claim': 129,\n",
       " 'him': 130,\n",
       " 'too': 131,\n",
       " 'after': 132,\n",
       " 'night': 133,\n",
       " 'great': 134,\n",
       " 'amp': 135,\n",
       " 'had': 136,\n",
       " 'oh': 137,\n",
       " 'c': 138,\n",
       " 'more': 139,\n",
       " 'number': 140,\n",
       " 'e': 141,\n",
       " 'who': 142,\n",
       " 'work': 143,\n",
       " 'give': 144,\n",
       " 'way': 145,\n",
       " \"it's\": 146,\n",
       " 'd': 147,\n",
       " 'prize': 148,\n",
       " 'already': 149,\n",
       " 'make': 150,\n",
       " 'them': 151,\n",
       " 'say': 152,\n",
       " 'life': 153,\n",
       " '3': 154,\n",
       " 'yes': 155,\n",
       " 'tomorrow': 156,\n",
       " 'said': 157,\n",
       " 'yeah': 158,\n",
       " 'should': 159,\n",
       " 'last': 160,\n",
       " 'doing': 161,\n",
       " 'uk': 162,\n",
       " 'would': 163,\n",
       " 'win': 164,\n",
       " 'im': 165,\n",
       " 'lol': 166,\n",
       " 'message': 167,\n",
       " 'cash': 168,\n",
       " 'meet': 169,\n",
       " 'morning': 170,\n",
       " 'miss': 171,\n",
       " 'babe': 172,\n",
       " 'ask': 173,\n",
       " 'every': 174,\n",
       " 'very': 175,\n",
       " 'right': 176,\n",
       " 'care': 177,\n",
       " 'let': 178,\n",
       " 'really': 179,\n",
       " 'find': 180,\n",
       " 'won': 181,\n",
       " 'something': 182,\n",
       " 'also': 183,\n",
       " 'over': 184,\n",
       " '150p': 185,\n",
       " 'off': 186,\n",
       " 'anything': 187,\n",
       " 'urgent': 188,\n",
       " 'b': 189,\n",
       " 'why': 190,\n",
       " 'wait': 191,\n",
       " 'cant': 192,\n",
       " 'went': 193,\n",
       " \"can't\": 194,\n",
       " 'ya': 195,\n",
       " 'nokia': 196,\n",
       " 'co': 197,\n",
       " 'us': 198,\n",
       " 'feel': 199,\n",
       " 't': 200,\n",
       " 'thanks': 201,\n",
       " 'sure': 202,\n",
       " 'soon': 203,\n",
       " 'before': 204,\n",
       " 'cos': 205,\n",
       " 'pick': 206,\n",
       " 'even': 207,\n",
       " 'keep': 208,\n",
       " 'help': 209,\n",
       " 'again': 210,\n",
       " 'contact': 211,\n",
       " 'place': 212,\n",
       " 'tone': 213,\n",
       " 'could': 214,\n",
       " 'around': 215,\n",
       " 'sent': 216,\n",
       " 'leave': 217,\n",
       " 'dun': 218,\n",
       " 'per': 219,\n",
       " 'first': 220,\n",
       " 'wan': 221,\n",
       " '5': 222,\n",
       " 'special': 223,\n",
       " 'getting': 224,\n",
       " 'com': 225,\n",
       " 'many': 226,\n",
       " 'other': 227,\n",
       " 'late': 228,\n",
       " 'friends': 229,\n",
       " 'gonna': 230,\n",
       " 'fine': 231,\n",
       " 'x': 232,\n",
       " '16': 233,\n",
       " 'money': 234,\n",
       " 'nice': 235,\n",
       " 'yet': 236,\n",
       " 'thk': 237,\n",
       " 'down': 238,\n",
       " \"i've\": 239,\n",
       " 'next': 240,\n",
       " 'min': 241,\n",
       " '50': 242,\n",
       " 'year': 243,\n",
       " 'thing': 244,\n",
       " 'same': 245,\n",
       " 'tonight': 246,\n",
       " 'haha': 247,\n",
       " 'gud': 248,\n",
       " 'people': 249,\n",
       " 'hello': 250,\n",
       " \"that's\": 251,\n",
       " 'customer': 252,\n",
       " \"you're\": 253,\n",
       " 'waiting': 254,\n",
       " '6': 255,\n",
       " 'someone': 256,\n",
       " 'sms': 257,\n",
       " 'were': 258,\n",
       " 'may': 259,\n",
       " 'always': 260,\n",
       " 'his': 261,\n",
       " 'things': 262,\n",
       " 'use': 263,\n",
       " 'heart': 264,\n",
       " 'wish': 265,\n",
       " 'which': 266,\n",
       " 'name': 267,\n",
       " 'buy': 268,\n",
       " 'smile': 269,\n",
       " 'days': 270,\n",
       " 'sleep': 271,\n",
       " 'service': 272,\n",
       " 'class': 273,\n",
       " 'coming': 274,\n",
       " 'draw': 275,\n",
       " 'v': 276,\n",
       " 's': 277,\n",
       " 'mins': 278,\n",
       " 'talk': 279,\n",
       " 'guaranteed': 280,\n",
       " '18': 281,\n",
       " 'chat': 282,\n",
       " 'dat': 283,\n",
       " 'ill': 284,\n",
       " 'ready': 285,\n",
       " 'try': 286,\n",
       " 'being': 287,\n",
       " 'done': 288,\n",
       " 'best': 289,\n",
       " 'cool': 290,\n",
       " 'meeting': 291,\n",
       " 'person': 292,\n",
       " 'stuff': 293,\n",
       " 'y': 294,\n",
       " 'ìï': 295,\n",
       " 'å£1': 296,\n",
       " 'long': 297,\n",
       " 'few': 298,\n",
       " 'trying': 299,\n",
       " 'thought': 300,\n",
       " 'having': 301,\n",
       " '1st': 302,\n",
       " 'guess': 303,\n",
       " 'dinner': 304,\n",
       " 'thats': 305,\n",
       " 'wk': 306,\n",
       " 'play': 307,\n",
       " 'told': 308,\n",
       " 'yup': 309,\n",
       " 'liao': 310,\n",
       " 'line': 311,\n",
       " 'real': 312,\n",
       " \"didn't\": 313,\n",
       " 'bit': 314,\n",
       " 'car': 315,\n",
       " 'eat': 316,\n",
       " 'big': 317,\n",
       " 'awarded': 318,\n",
       " 'into': 319,\n",
       " 'ever': 320,\n",
       " 'job': 321,\n",
       " 'end': 322,\n",
       " 'quite': 323,\n",
       " 'another': 324,\n",
       " 'friend': 325,\n",
       " 'baby': 326,\n",
       " 'half': 327,\n",
       " 'mind': 328,\n",
       " 'wanna': 329,\n",
       " 'latest': 330,\n",
       " 'lar': 331,\n",
       " 'finish': 332,\n",
       " 'lunch': 333,\n",
       " 'problem': 334,\n",
       " 'better': 335,\n",
       " 'den': 336,\n",
       " 'never': 337,\n",
       " 'chance': 338,\n",
       " 'enjoy': 339,\n",
       " 'thanx': 340,\n",
       " '7': 341,\n",
       " 'cost': 342,\n",
       " 'watch': 343,\n",
       " 'because': 344,\n",
       " 'bad': 345,\n",
       " 'yo': 346,\n",
       " 'forgot': 347,\n",
       " 'fun': 348,\n",
       " 'left': 349,\n",
       " 'luv': 350,\n",
       " 'sir': 351,\n",
       " 'guys': 352,\n",
       " 'hear': 353,\n",
       " 'live': 354,\n",
       " 'shit': 355,\n",
       " 'shows': 356,\n",
       " 'bed': 357,\n",
       " 'ah': 358,\n",
       " 'word': 359,\n",
       " 'man': 360,\n",
       " 'house': 361,\n",
       " 'two': 362,\n",
       " 'god': 363,\n",
       " 'once': 364,\n",
       " '9': 365,\n",
       " 'actually': 366,\n",
       " 'early': 367,\n",
       " 'does': 368,\n",
       " 'camera': 369,\n",
       " 'holiday': 370,\n",
       " 'room': 371,\n",
       " 'face': 372,\n",
       " 'might': 373,\n",
       " 'than': 374,\n",
       " 'tv': 375,\n",
       " 'cs': 376,\n",
       " 'box': 377,\n",
       " 'look': 378,\n",
       " 'account': 379,\n",
       " 'weekend': 380,\n",
       " 'maybe': 381,\n",
       " 'pa': 382,\n",
       " '2nd': 383,\n",
       " 'aight': 384,\n",
       " 'orange': 385,\n",
       " \"we're\": 386,\n",
       " 'town': 387,\n",
       " 'start': 388,\n",
       " 'hour': 389,\n",
       " 'enough': 390,\n",
       " 'month': 391,\n",
       " 'po': 392,\n",
       " '150ppm': 393,\n",
       " 'called': 394,\n",
       " 'check': 395,\n",
       " 'll': 396,\n",
       " 'probably': 397,\n",
       " '10': 398,\n",
       " 'watching': 399,\n",
       " 'saw': 400,\n",
       " 'shall': 401,\n",
       " 'reach': 402,\n",
       " 'while': 403,\n",
       " 'shopping': 404,\n",
       " 'lot': 405,\n",
       " 'wife': 406,\n",
       " 'easy': 407,\n",
       " 'without': 408,\n",
       " 'apply': 409,\n",
       " 'though': 410,\n",
       " 'minutes': 411,\n",
       " 'anyway': 412,\n",
       " 'receive': 413,\n",
       " 'xmas': 414,\n",
       " 'didnt': 415,\n",
       " 'most': 416,\n",
       " 'girl': 417,\n",
       " 'pay': 418,\n",
       " 'looking': 419,\n",
       " 'entry': 420,\n",
       " 'wont': 421,\n",
       " 'made': 422,\n",
       " 'video': 423,\n",
       " 'network': 424,\n",
       " 'xxx': 425,\n",
       " 'okay': 426,\n",
       " 'since': 427,\n",
       " 'bring': 428,\n",
       " 'de': 429,\n",
       " 'å£1000': 430,\n",
       " 'times': 431,\n",
       " 'little': 432,\n",
       " 'nothing': 433,\n",
       " \"there's\": 434,\n",
       " 'sat': 435,\n",
       " 'kiss': 436,\n",
       " 'put': 437,\n",
       " 'world': 438,\n",
       " 'goes': 439,\n",
       " 'attempt': 440,\n",
       " \"he's\": 441,\n",
       " 'calls': 442,\n",
       " 'missed': 443,\n",
       " 'dad': 444,\n",
       " 'shop': 445,\n",
       " 'away': 446,\n",
       " 'between': 447,\n",
       " 'test': 448,\n",
       " 'til': 449,\n",
       " 'guy': 450,\n",
       " 'dunno': 451,\n",
       " 'bus': 452,\n",
       " 'landline': 453,\n",
       " 'else': 454,\n",
       " 'abt': 455,\n",
       " 'code': 456,\n",
       " 'wake': 457,\n",
       " '8': 458,\n",
       " '500': 459,\n",
       " 'leh': 460,\n",
       " 'jus': 461,\n",
       " 'afternoon': 462,\n",
       " 'until': 463,\n",
       " 'texts': 464,\n",
       " 'plus': 465,\n",
       " 'show': 466,\n",
       " 'those': 467,\n",
       " 'plan': 468,\n",
       " 'music': 469,\n",
       " 'oso': 470,\n",
       " 'join': 471,\n",
       " 'working': 472,\n",
       " 'price': 473,\n",
       " 'mob': 474,\n",
       " 'offer': 475,\n",
       " 'these': 476,\n",
       " 'juz': 477,\n",
       " 'makes': 478,\n",
       " 'part': 479,\n",
       " 'yesterday': 480,\n",
       " 'colour': 481,\n",
       " 'fuck': 482,\n",
       " 'mail': 483,\n",
       " 'sexy': 484,\n",
       " 'book': 485,\n",
       " 'havent': 486,\n",
       " 'important': 487,\n",
       " 'school': 488,\n",
       " 'office': 489,\n",
       " 'came': 490,\n",
       " 'rate': 491,\n",
       " 'remember': 492,\n",
       " 'okie': 493,\n",
       " 'says': 494,\n",
       " 'wot': 495,\n",
       " 'making': 496,\n",
       " 'must': 497,\n",
       " 'driving': 498,\n",
       " 'tmr': 499,\n",
       " 'nite': 500,\n",
       " 'dis': 501,\n",
       " 'boy': 502,\n",
       " 'sweet': 503,\n",
       " 'rite': 504,\n",
       " 'worry': 505,\n",
       " 'bonus': 506,\n",
       " 'set': 507,\n",
       " 'valid': 508,\n",
       " 'plz': 509,\n",
       " 'bored': 510,\n",
       " 'wif': 511,\n",
       " 'till': 512,\n",
       " \"''\": 513,\n",
       " 'pain': 514,\n",
       " 'bt': 515,\n",
       " 'net': 516,\n",
       " 'change': 517,\n",
       " 'update': 518,\n",
       " 'family': 519,\n",
       " 'both': 520,\n",
       " 'movie': 521,\n",
       " 'games': 522,\n",
       " 'award': 523,\n",
       " 'princess': 524,\n",
       " \"won't\": 525,\n",
       " 'able': 526,\n",
       " 'hours': 527,\n",
       " 'alright': 528,\n",
       " 'tones': 529,\n",
       " 'online': 530,\n",
       " 'chikku': 531,\n",
       " 'hurt': 532,\n",
       " 'run': 533,\n",
       " 'calling': 534,\n",
       " 'mean': 535,\n",
       " 'pounds': 536,\n",
       " 'leaving': 537,\n",
       " 'evening': 538,\n",
       " 'everything': 539,\n",
       " 'drive': 540,\n",
       " 'hav': 541,\n",
       " 'messages': 542,\n",
       " 'busy': 543,\n",
       " 'speak': 544,\n",
       " 'yours': 545,\n",
       " 'å£100': 546,\n",
       " 'eve': 547,\n",
       " 'opt': 548,\n",
       " 'charge': 549,\n",
       " 'smiling': 550,\n",
       " 'true': 551,\n",
       " 'birthday': 552,\n",
       " 'id': 553,\n",
       " 'hot': 554,\n",
       " 'tho': 555,\n",
       " 'feeling': 556,\n",
       " 'vouchers': 557,\n",
       " '86688': 558,\n",
       " 'treat': 559,\n",
       " 'wen': 560,\n",
       " 'wid': 561,\n",
       " 'yourself': 562,\n",
       " 'decimal': 563,\n",
       " '000': 564,\n",
       " 'collect': 565,\n",
       " 'everyone': 566,\n",
       " 'either': 567,\n",
       " 'full': 568,\n",
       " '100': 569,\n",
       " 'missing': 570,\n",
       " 'final': 571,\n",
       " 'pub': 572,\n",
       " 'g': 573,\n",
       " \"c's\": 574,\n",
       " 'stay': 575,\n",
       " 'whatever': 576,\n",
       " 'believe': 577,\n",
       " 'head': 578,\n",
       " \"haven't\": 579,\n",
       " 'selected': 580,\n",
       " 'goin': 581,\n",
       " 're': 582,\n",
       " 'freemsg': 583,\n",
       " 'm': 584,\n",
       " 'friendship': 585,\n",
       " 'pics': 586,\n",
       " 'walk': 587,\n",
       " 'ard': 588,\n",
       " 'started': 589,\n",
       " 'info': 590,\n",
       " 'congrats': 591,\n",
       " 'happened': 592,\n",
       " 'coz': 593,\n",
       " 'sad': 594,\n",
       " 'unsubscribe': 595,\n",
       " 'mates': 596,\n",
       " 'together': 597,\n",
       " 'beautiful': 598,\n",
       " 'ha': 599,\n",
       " '8007': 600,\n",
       " 'wkly': 601,\n",
       " 'story': 602,\n",
       " 'thank': 603,\n",
       " 'date': 604,\n",
       " \"how's\": 605,\n",
       " 'means': 606,\n",
       " 'dude': 607,\n",
       " 'dreams': 608,\n",
       " 'gd': 609,\n",
       " 'post': 610,\n",
       " '10p': 611,\n",
       " 'boytoy': 612,\n",
       " 'w': 613,\n",
       " 'wanted': 614,\n",
       " 'å£5000': 615,\n",
       " 'collection': 616,\n",
       " 'pm': 617,\n",
       " 'wil': 618,\n",
       " \"she's\": 619,\n",
       " 'drink': 620,\n",
       " 'pic': 621,\n",
       " 'double': 622,\n",
       " 'smoke': 623,\n",
       " 'ringtone': 624,\n",
       " 'lots': 625,\n",
       " 'sleeping': 626,\n",
       " 'break': 627,\n",
       " 'tomo': 628,\n",
       " 'asked': 629,\n",
       " 'worth': 630,\n",
       " 'fucking': 631,\n",
       " 'weekly': 632,\n",
       " 'å£500': 633,\n",
       " 'unlimited': 634,\n",
       " 'wants': 635,\n",
       " 'top': 636,\n",
       " 'minute': 637,\n",
       " 'å£2000': 638,\n",
       " 'address': 639,\n",
       " 'years': 640,\n",
       " 'row': 641,\n",
       " 'goodmorning': 642,\n",
       " 'close': 643,\n",
       " 'download': 644,\n",
       " 'tried': 645,\n",
       " 'quiz': 646,\n",
       " 'anytime': 647,\n",
       " '08000930705': 648,\n",
       " 'ring': 649,\n",
       " 'mobileupd8': 650,\n",
       " '08000839402': 651,\n",
       " 'currently': 652,\n",
       " 'game': 653,\n",
       " 'drop': 654,\n",
       " 'order': 655,\n",
       " 'huh': 656,\n",
       " 'lesson': 657,\n",
       " 'welcome': 658,\n",
       " 'visit': 659,\n",
       " 'don': 660,\n",
       " 'points': 661,\n",
       " '03': 662,\n",
       " 'happen': 663,\n",
       " '0800': 664,\n",
       " 'loving': 665,\n",
       " 'lei': 666,\n",
       " 'words': 667,\n",
       " 'lets': 668,\n",
       " 'darlin': 669,\n",
       " 'answer': 670,\n",
       " 'services': 671,\n",
       " 'choose': 672,\n",
       " 'finished': 673,\n",
       " 'sun': 674,\n",
       " 'comes': 675,\n",
       " 'caller': 676,\n",
       " 'forget': 677,\n",
       " 'chennai': 678,\n",
       " 'question': 679,\n",
       " 'news': 680,\n",
       " 'read': 681,\n",
       " 'pobox': 682,\n",
       " 'details': 683,\n",
       " 'frnd': 684,\n",
       " 'å£250': 685,\n",
       " 'tot': 686,\n",
       " \"we'll\": 687,\n",
       " 'ass': 688,\n",
       " 'hair': 689,\n",
       " 'found': 690,\n",
       " 'land': 691,\n",
       " 'takes': 692,\n",
       " 'awesome': 693,\n",
       " '12hrs': 694,\n",
       " 'club': 695,\n",
       " 'wonderful': 696,\n",
       " 'food': 697,\n",
       " 'noe': 698,\n",
       " 'college': 699,\n",
       " 'finally': 700,\n",
       " '750': 701,\n",
       " 'national': 702,\n",
       " 'snow': 703,\n",
       " 'mu': 704,\n",
       " 'frm': 705,\n",
       " 'todays': 706,\n",
       " 'weeks': 707,\n",
       " 'whole': 708,\n",
       " 'old': 709,\n",
       " 'gift': 710,\n",
       " 'voucher': 711,\n",
       " 'whats': 712,\n",
       " 'cause': 713,\n",
       " 'crazy': 714,\n",
       " 'smth': 715,\n",
       " 'mine': 716,\n",
       " 'christmas': 717,\n",
       " 'card': 718,\n",
       " 'mr': 719,\n",
       " '\\x89û': 720,\n",
       " 'xx': 721,\n",
       " 'type': 722,\n",
       " 'email': 723,\n",
       " 'angry': 724,\n",
       " 'haf': 725,\n",
       " 'saying': 726,\n",
       " 'saturday': 727,\n",
       " 'carlos': 728,\n",
       " 'project': 729,\n",
       " 'talking': 730,\n",
       " 'private': 731,\n",
       " 'alone': 732,\n",
       " 'couple': 733,\n",
       " 'outside': 734,\n",
       " 'balance': 735,\n",
       " 'trip': 736,\n",
       " 'light': 737,\n",
       " \"what's\": 738,\n",
       " 'knw': 739,\n",
       " 'camcorder': 740,\n",
       " 'ltd': 741,\n",
       " '30': 742,\n",
       " 'mum': 743,\n",
       " 'gr8': 744,\n",
       " 'rs': 745,\n",
       " 'tel': 746,\n",
       " 'brother': 747,\n",
       " 'second': 748,\n",
       " 'reading': 749,\n",
       " 'took': 750,\n",
       " 'oredi': 751,\n",
       " 'parents': 752,\n",
       " \"'\": 753,\n",
       " 'blue': 754,\n",
       " 'happiness': 755,\n",
       " 'red': 756,\n",
       " 'wine': 757,\n",
       " 'b4': 758,\n",
       " 'sae': 759,\n",
       " 'wow': 760,\n",
       " 'tired': 761,\n",
       " 'press': 762,\n",
       " 'nope': 763,\n",
       " 'lucky': 764,\n",
       " 'nyt': 765,\n",
       " 'far': 766,\n",
       " 'ge': 767,\n",
       " 'mobiles': 768,\n",
       " 'gone': 769,\n",
       " 'poly': 770,\n",
       " 'yep': 771,\n",
       " 'party': 772,\n",
       " \"doesn't\": 773,\n",
       " 'å£3': 774,\n",
       " 'msgs': 775,\n",
       " 'wrong': 776,\n",
       " 'expires': 777,\n",
       " 'taking': 778,\n",
       " 'company': 779,\n",
       " 'hmv': 780,\n",
       " 'dating': 781,\n",
       " 'content': 782,\n",
       " 'hard': 783,\n",
       " 'touch': 784,\n",
       " 'bout': 785,\n",
       " 'search': 786,\n",
       " 'hold': 787,\n",
       " 'knew': 788,\n",
       " 'open': 789,\n",
       " 'secret': 790,\n",
       " 'least': 791,\n",
       " 'statement': 792,\n",
       " 'darren': 793,\n",
       " 'fast': 794,\n",
       " 'txting': 795,\n",
       " 'each': 796,\n",
       " 'sch': 797,\n",
       " 'sister': 798,\n",
       " 'thinking': 799,\n",
       " '20': 800,\n",
       " 'lost': 801,\n",
       " 'park': 802,\n",
       " '87066': 803,\n",
       " 'clean': 804,\n",
       " 'congratulations': 805,\n",
       " 'gn': 806,\n",
       " 'supposed': 807,\n",
       " 'stupid': 808,\n",
       " 'sounds': 809,\n",
       " 'extra': 810,\n",
       " 'suite342': 811,\n",
       " '2lands': 812,\n",
       " 'auction': 813,\n",
       " \"you've\": 814,\n",
       " 'callertune': 815,\n",
       " 'met': 816,\n",
       " 'seeing': 817,\n",
       " 'hmmm': 818,\n",
       " 'area': 819,\n",
       " 'delivery': 820,\n",
       " 'store': 821,\n",
       " 'safe': 822,\n",
       " 'yar': 823,\n",
       " 'ends': 824,\n",
       " 'available': 825,\n",
       " 'await': 826,\n",
       " 'earlier': 827,\n",
       " 'std': 828,\n",
       " 'warm': 829,\n",
       " 'bath': 830,\n",
       " 'mate': 831,\n",
       " 'questions': 832,\n",
       " 'song': 833,\n",
       " 'reason': 834,\n",
       " 'listen': 835,\n",
       " 'å£350': 836,\n",
       " 'fancy': 837,\n",
       " 'friday': 838,\n",
       " 'needs': 839,\n",
       " 'slowly': 840,\n",
       " 'o': 841,\n",
       " 'ni8': 842,\n",
       " 'correct': 843,\n",
       " 'st': 844,\n",
       " 'bslvyl': 845,\n",
       " 'nt': 846,\n",
       " 'simple': 847,\n",
       " 'identifier': 848,\n",
       " 'woke': 849,\n",
       " 'sex': 850,\n",
       " 'invited': 851,\n",
       " 'meant': 852,\n",
       " 'difficult': 853,\n",
       " 'sunshine': 854,\n",
       " 'ten': 855,\n",
       " 'tampa': 856,\n",
       " 'pass': 857,\n",
       " 'winner': 858,\n",
       " 'reveal': 859,\n",
       " 'thinks': 860,\n",
       " 'comp': 861,\n",
       " 'abiola': 862,\n",
       " 'frnds': 863,\n",
       " 'hee': 864,\n",
       " 'custcare': 865,\n",
       " 'study': 866,\n",
       " 'plans': 867,\n",
       " 'pete': 868,\n",
       " 'mrng': 869,\n",
       " 'player': 870,\n",
       " 'understand': 871,\n",
       " 'point': 872,\n",
       " 'somewhere': 873,\n",
       " 'heard': 874,\n",
       " 'cum': 875,\n",
       " 'booked': 876,\n",
       " 'completely': 877,\n",
       " 'via': 878,\n",
       " 'direct': 879,\n",
       " 'wit': 880,\n",
       " 'figure': 881,\n",
       " 'decided': 882,\n",
       " 'motorola': 883,\n",
       " 'crave': 884,\n",
       " 'dead': 885,\n",
       " 'felt': 886,\n",
       " 'na': 887,\n",
       " 'valued': 888,\n",
       " 'hows': 889,\n",
       " 'mayb': 890,\n",
       " 'hospital': 891,\n",
       " 'txts': 892,\n",
       " 'call2optout': 893,\n",
       " 'wishing': 894,\n",
       " 'merry': 895,\n",
       " 'sound': 896,\n",
       " 'sis': 897,\n",
       " \"you'll\": 898,\n",
       " 'loads': 899,\n",
       " 'summer': 900,\n",
       " 'mom': 901,\n",
       " 'usf': 902,\n",
       " 'anyone': 903,\n",
       " 'numbers': 904,\n",
       " 'pretty': 905,\n",
       " 'reaching': 906,\n",
       " 'ringtones': 907,\n",
       " 'hungry': 908,\n",
       " 'xy': 909,\n",
       " 'neva': 910,\n",
       " 'somebody': 911,\n",
       " 'through': 912,\n",
       " 'no1': 913,\n",
       " 'picking': 914,\n",
       " 'ugh': 915,\n",
       " 'swing': 916,\n",
       " 'enter': 917,\n",
       " 'copy': 918,\n",
       " 'dnt': 919,\n",
       " 'deep': 920,\n",
       " 'sony': 921,\n",
       " 'dvd': 922,\n",
       " 'fact': 923,\n",
       " 'gym': 924,\n",
       " 'realy': 925,\n",
       " 'log': 926,\n",
       " \"wasn't\": 927,\n",
       " 'trouble': 928,\n",
       " 'lose': 929,\n",
       " 'moment': 930,\n",
       " 'normal': 931,\n",
       " 'gettin': 932,\n",
       " 'gas': 933,\n",
       " 'anymore': 934,\n",
       " 'å£2': 935,\n",
       " '11': 936,\n",
       " 'case': 937,\n",
       " 'sell': 938,\n",
       " 'their': 939,\n",
       " 'getzed': 940,\n",
       " 'rest': 941,\n",
       " 'ipod': 942,\n",
       " 'eg': 943,\n",
       " 'slow': 944,\n",
       " 'sea': 945,\n",
       " 'laptop': 946,\n",
       " 'http': 947,\n",
       " 'ago': 948,\n",
       " 'glad': 949,\n",
       " 'immediately': 950,\n",
       " 'used': 951,\n",
       " 'sick': 952,\n",
       " 'blood': 953,\n",
       " 'aft': 954,\n",
       " 'computer': 955,\n",
       " '12': 956,\n",
       " 'lovely': 957,\n",
       " 'tc': 958,\n",
       " 'asap': 959,\n",
       " 'ex': 960,\n",
       " 'kids': 961,\n",
       " 'p': 962,\n",
       " 'wana': 963,\n",
       " 'dogging': 964,\n",
       " 'truth': 965,\n",
       " 'uncle': 966,\n",
       " 'promise': 967,\n",
       " 'decide': 968,\n",
       " 'confirm': 969,\n",
       " 'voice': 970,\n",
       " 'possible': 971,\n",
       " 'telling': 972,\n",
       " 'f': 973,\n",
       " 'seen': 974,\n",
       " 'w1j6hl': 975,\n",
       " 'askd': 976,\n",
       " \"b'day\": 977,\n",
       " 'colleagues': 978,\n",
       " 'ldn': 979,\n",
       " 'surprise': 980,\n",
       " 'etc': 981,\n",
       " 'water': 982,\n",
       " 'empty': 983,\n",
       " 'match': 984,\n",
       " '50p': 985,\n",
       " 'fone': 986,\n",
       " 'age': 987,\n",
       " 'pound': 988,\n",
       " 'lazy': 989,\n",
       " \"where's\": 990,\n",
       " 'street': 991,\n",
       " '82277': 992,\n",
       " 'sp': 993,\n",
       " 'rental': 994,\n",
       " 'sitting': 995,\n",
       " 'side': 996,\n",
       " 'worried': 997,\n",
       " 'del': 998,\n",
       " 'terms': 999,\n",
       " 'discount': 1000,\n",
       " ...}"
      ]
     },
     "execution_count": 20,
     "metadata": {},
     "output_type": "execute_result"
    }
   ],
   "source": [
    "word2index"
   ]
  },
  {
   "cell_type": "code",
   "execution_count": 21,
   "id": "973149db",
   "metadata": {
    "execution": {
     "iopub.execute_input": "2022-01-04T16:14:47.864212Z",
     "iopub.status.busy": "2022-01-04T16:14:47.863572Z",
     "iopub.status.idle": "2022-01-04T16:14:47.938142Z",
     "shell.execute_reply": "2022-01-04T16:14:47.938644Z"
    },
    "id": "23R__z7RN_Wy",
    "papermill": {
     "duration": 0.123316,
     "end_time": "2022-01-04T16:14:47.938838",
     "exception": false,
     "start_time": "2022-01-04T16:14:47.815522",
     "status": "completed"
    },
    "tags": []
   },
   "outputs": [],
   "source": [
    "#convert sentence to sequence\n",
    "sequences_train=tokenizer.texts_to_sequences(x_train)"
   ]
  },
  {
   "cell_type": "code",
   "execution_count": 22,
   "id": "81415c74",
   "metadata": {
    "execution": {
     "iopub.execute_input": "2022-01-04T16:14:48.032476Z",
     "iopub.status.busy": "2022-01-04T16:14:48.031843Z",
     "iopub.status.idle": "2022-01-04T16:14:48.037736Z",
     "shell.execute_reply": "2022-01-04T16:14:48.037190Z"
    },
    "id": "6HYQLAAoQuIP",
    "outputId": "cefb1c5a-af58-4246-84a6-24cef4dd7cf8",
    "papermill": {
     "duration": 0.053723,
     "end_time": "2022-01-04T16:14:48.037885",
     "exception": false,
     "start_time": "2022-01-04T16:14:47.984162",
     "status": "completed"
    },
    "tags": []
   },
   "outputs": [
    {
     "data": {
      "text/plain": [
       "[250, 266, 5, 1272, 2, 644, 1468, 58, 188, 117]"
      ]
     },
     "execution_count": 22,
     "metadata": {},
     "output_type": "execute_result"
    }
   ],
   "source": [
    "sequences_train[0]"
   ]
  },
  {
   "cell_type": "code",
   "execution_count": 23,
   "id": "e76b3f9d",
   "metadata": {
    "execution": {
     "iopub.execute_input": "2022-01-04T16:14:48.143811Z",
     "iopub.status.busy": "2022-01-04T16:14:48.138664Z",
     "iopub.status.idle": "2022-01-04T16:14:48.176530Z",
     "shell.execute_reply": "2022-01-04T16:14:48.175879Z"
    },
    "id": "x18I820jONHP",
    "papermill": {
     "duration": 0.092548,
     "end_time": "2022-01-04T16:14:48.176687",
     "exception": false,
     "start_time": "2022-01-04T16:14:48.084139",
     "status": "completed"
    },
    "tags": []
   },
   "outputs": [],
   "source": [
    "sequences_test=tokenizer.texts_to_sequences(x_test)"
   ]
  },
  {
   "cell_type": "code",
   "execution_count": 24,
   "id": "7f1a9d65",
   "metadata": {
    "execution": {
     "iopub.execute_input": "2022-01-04T16:14:48.276192Z",
     "iopub.status.busy": "2022-01-04T16:14:48.275150Z",
     "iopub.status.idle": "2022-01-04T16:14:48.278618Z",
     "shell.execute_reply": "2022-01-04T16:14:48.279219Z"
    },
    "id": "a_r_ulH7OSoD",
    "outputId": "afa39180-cabd-4c59-c62b-dc3ea940e005",
    "papermill": {
     "duration": 0.05665,
     "end_time": "2022-01-04T16:14:48.279390",
     "exception": false,
     "start_time": "2022-01-04T16:14:48.222740",
     "status": "completed"
    },
    "tags": []
   },
   "outputs": [
    {
     "data": {
      "text/plain": [
       "1245    Hello which the site to download songs its urg...\n",
       "787     Ever thought about living a good life with a p...\n",
       "4840    Hmmm.... Mayb can try e shoppin area one, but ...\n",
       "4916    This is the 2nd time we have tried 2 contact u...\n",
       "3650         Want to send me a virtual hug?... I need one\n",
       "                              ...                        \n",
       "4931                Match started.india  &lt;#&gt;  for 2\n",
       "3264    44 7732584351, Do you want a New Nokia 3510i c...\n",
       "1653    I was at bugis juz now wat... But now i'm walk...\n",
       "2607    :-) yeah! Lol. Luckily i didn't have a starrin...\n",
       "2732    How dare you stupid. I wont tell anything to y...\n",
       "Name: Data, Length: 3733, dtype: object"
      ]
     },
     "execution_count": 24,
     "metadata": {},
     "output_type": "execute_result"
    }
   ],
   "source": [
    "x_train"
   ]
  },
  {
   "cell_type": "code",
   "execution_count": 25,
   "id": "0fff1039",
   "metadata": {
    "execution": {
     "iopub.execute_input": "2022-01-04T16:14:48.398586Z",
     "iopub.status.busy": "2022-01-04T16:14:48.397620Z",
     "iopub.status.idle": "2022-01-04T16:14:48.402857Z",
     "shell.execute_reply": "2022-01-04T16:14:48.403726Z"
    },
    "id": "YiCU5gbKOsue",
    "outputId": "69d2dd66-8692-4aa8-aa76-0054f88d0785",
    "papermill": {
     "duration": 0.072145,
     "end_time": "2022-01-04T16:14:48.403982",
     "exception": false,
     "start_time": "2022-01-04T16:14:48.331837",
     "status": "completed"
    },
    "tags": []
   },
   "outputs": [
    {
     "data": {
      "text/plain": [
       "[250, 266, 5, 1272, 2, 644, 1468, 58, 188, 117]"
      ]
     },
     "execution_count": 25,
     "metadata": {},
     "output_type": "execute_result"
    }
   ],
   "source": [
    "sequences_train[0]"
   ]
  },
  {
   "cell_type": "code",
   "execution_count": 26,
   "id": "4d391f36",
   "metadata": {
    "execution": {
     "iopub.execute_input": "2022-01-04T16:14:48.504162Z",
     "iopub.status.busy": "2022-01-04T16:14:48.503508Z",
     "iopub.status.idle": "2022-01-04T16:14:48.547388Z",
     "shell.execute_reply": "2022-01-04T16:14:48.546798Z"
    },
    "id": "KwpDCVVaO-__",
    "papermill": {
     "duration": 0.093369,
     "end_time": "2022-01-04T16:14:48.547553",
     "exception": false,
     "start_time": "2022-01-04T16:14:48.454184",
     "status": "completed"
    },
    "tags": []
   },
   "outputs": [],
   "source": [
    "#pad sequences to get (NXT matrix)\n",
    "data_train=pad_sequences(sequences_train)\n",
    "#N= number of samples T: Number of time steps"
   ]
  },
  {
   "cell_type": "code",
   "execution_count": 27,
   "id": "4e7cab20",
   "metadata": {
    "execution": {
     "iopub.execute_input": "2022-01-04T16:14:48.645418Z",
     "iopub.status.busy": "2022-01-04T16:14:48.644809Z",
     "iopub.status.idle": "2022-01-04T16:14:48.652641Z",
     "shell.execute_reply": "2022-01-04T16:14:48.652001Z"
    },
    "id": "XzN3kHXiSCtu",
    "outputId": "ac52dfe5-50df-472b-96cf-4fa507319914",
    "papermill": {
     "duration": 0.058209,
     "end_time": "2022-01-04T16:14:48.652784",
     "exception": false,
     "start_time": "2022-01-04T16:14:48.594575",
     "status": "completed"
    },
    "tags": []
   },
   "outputs": [
    {
     "data": {
      "text/plain": [
       "array([[   0,    0,    0, ...,   58,  188,  117],\n",
       "       [   0,    0,    0, ..., 2295, 3374,  257],\n",
       "       [   0,    0,    0, ...,  267,   14, 1273],\n",
       "       ...,\n",
       "       [   0,    0,    0, ...,   80,  102,   21],\n",
       "       [   0,    0,    0, ..., 1376,   56,    3],\n",
       "       [   0,    0,    0, ...,  279,    2,    3]], dtype=int32)"
      ]
     },
     "execution_count": 27,
     "metadata": {},
     "output_type": "execute_result"
    }
   ],
   "source": [
    "data_train"
   ]
  },
  {
   "cell_type": "code",
   "execution_count": 28,
   "id": "2c55b791",
   "metadata": {
    "execution": {
     "iopub.execute_input": "2022-01-04T16:14:48.752979Z",
     "iopub.status.busy": "2022-01-04T16:14:48.750926Z",
     "iopub.status.idle": "2022-01-04T16:14:48.755634Z",
     "shell.execute_reply": "2022-01-04T16:14:48.756079Z"
    },
    "id": "fEHTzGMOPjWm",
    "outputId": "d0dadf15-ac77-4cb2-8bb7-6bad4b118fa0",
    "papermill": {
     "duration": 0.056123,
     "end_time": "2022-01-04T16:14:48.756253",
     "exception": false,
     "start_time": "2022-01-04T16:14:48.700130",
     "status": "completed"
    },
    "tags": []
   },
   "outputs": [
    {
     "name": "stdout",
     "output_type": "stream",
     "text": [
      "data shape (3733, 162)\n"
     ]
    }
   ],
   "source": [
    "print('data shape',data_train.shape)"
   ]
  },
  {
   "cell_type": "code",
   "execution_count": 29,
   "id": "39688290",
   "metadata": {
    "execution": {
     "iopub.execute_input": "2022-01-04T16:14:48.863775Z",
     "iopub.status.busy": "2022-01-04T16:14:48.863121Z",
     "iopub.status.idle": "2022-01-04T16:14:48.871372Z",
     "shell.execute_reply": "2022-01-04T16:14:48.872147Z"
    },
    "id": "RfS5g0YjQ33F",
    "outputId": "c0ce389a-82dd-4ca1-8e1d-d83e35cdb02c",
    "papermill": {
     "duration": 0.061959,
     "end_time": "2022-01-04T16:14:48.872346",
     "exception": false,
     "start_time": "2022-01-04T16:14:48.810387",
     "status": "completed"
    },
    "tags": []
   },
   "outputs": [
    {
     "data": {
      "text/plain": [
       "10"
      ]
     },
     "execution_count": 29,
     "metadata": {},
     "output_type": "execute_result"
    }
   ],
   "source": [
    "len(sequences_train[0])\n"
   ]
  },
  {
   "cell_type": "code",
   "execution_count": 30,
   "id": "8f179ef0",
   "metadata": {
    "execution": {
     "iopub.execute_input": "2022-01-04T16:14:48.974921Z",
     "iopub.status.busy": "2022-01-04T16:14:48.973921Z",
     "iopub.status.idle": "2022-01-04T16:14:48.979053Z",
     "shell.execute_reply": "2022-01-04T16:14:48.979623Z"
    },
    "id": "fwHmsFnDRMNI",
    "outputId": "6e47bd61-3e22-4026-8d61-aee7292fadbe",
    "papermill": {
     "duration": 0.058541,
     "end_time": "2022-01-04T16:14:48.979806",
     "exception": false,
     "start_time": "2022-01-04T16:14:48.921265",
     "status": "completed"
    },
    "tags": []
   },
   "outputs": [
    {
     "data": {
      "text/plain": [
       "32"
      ]
     },
     "execution_count": 30,
     "metadata": {},
     "output_type": "execute_result"
    }
   ],
   "source": [
    "len(sequences_train[10])"
   ]
  },
  {
   "cell_type": "code",
   "execution_count": 31,
   "id": "898e7cf9",
   "metadata": {
    "execution": {
     "iopub.execute_input": "2022-01-04T16:14:49.083455Z",
     "iopub.status.busy": "2022-01-04T16:14:49.082404Z",
     "iopub.status.idle": "2022-01-04T16:14:49.088727Z",
     "shell.execute_reply": "2022-01-04T16:14:49.089323Z"
    },
    "id": "In49wJ_7RSS3",
    "outputId": "0ad02f87-2fc5-446a-9ac4-d40e312f094f",
    "papermill": {
     "duration": 0.06094,
     "end_time": "2022-01-04T16:14:49.089524",
     "exception": false,
     "start_time": "2022-01-04T16:14:49.028584",
     "status": "completed"
    },
    "tags": []
   },
   "outputs": [
    {
     "data": {
      "text/plain": [
       "array([   0,    0,    0,    0,    0,    0,    0,    0,    0,    0,    0,\n",
       "          0,    0,    0,    0,    0,    0,    0,    0,    0,    0,    0,\n",
       "          0,    0,    0,    0,    0,    0,    0,    0,    0,    0,    0,\n",
       "          0,    0,    0,    0,    0,    0,    0,    0,    0,    0,    0,\n",
       "          0,    0,    0,    0,    0,    0,    0,    0,    0,    0,    0,\n",
       "          0,    0,    0,    0,    0,    0,    0,    0,    0,    0,    0,\n",
       "          0,    0,    0,    0,    0,    0,    0,    0,    0,    0,    0,\n",
       "          0,    0,    0,    0,    0,    0,    0,    0,    0,    0,    0,\n",
       "          0,    0,    0,    0,    0,    0,    0,    0,    0,    0,    0,\n",
       "          0,    0,    0,    0,    0,    0,    0,    0,    0,    0,    0,\n",
       "          0,    0,    0,    0,    0,    0,    0,    0,    0,    0,    0,\n",
       "          0,    0,    0,    0,    0,    0,    0,    0,    0,    0,    0,\n",
       "          0,    0,    0,    0,    0,    0,    0,    0,    0,    0,    0,\n",
       "          0,    0,    0,    0,    0,    0,    0,    0,    0,  250,  266,\n",
       "          5, 1272,    2,  644, 1468,   58,  188,  117], dtype=int32)"
      ]
     },
     "execution_count": 31,
     "metadata": {},
     "output_type": "execute_result"
    }
   ],
   "source": [
    "data_train[0]\n"
   ]
  },
  {
   "cell_type": "code",
   "execution_count": 32,
   "id": "51fa01f0",
   "metadata": {
    "execution": {
     "iopub.execute_input": "2022-01-04T16:14:49.195273Z",
     "iopub.status.busy": "2022-01-04T16:14:49.194496Z",
     "iopub.status.idle": "2022-01-04T16:14:49.197710Z",
     "shell.execute_reply": "2022-01-04T16:14:49.198189Z"
    },
    "id": "kTtrYexjSMPN",
    "outputId": "0712d5c0-2021-400c-af0b-4bbdb0f7116c",
    "papermill": {
     "duration": 0.059453,
     "end_time": "2022-01-04T16:14:49.198369",
     "exception": false,
     "start_time": "2022-01-04T16:14:49.138916",
     "status": "completed"
    },
    "tags": []
   },
   "outputs": [
    {
     "data": {
      "text/plain": [
       "162"
      ]
     },
     "execution_count": 32,
     "metadata": {},
     "output_type": "execute_result"
    }
   ],
   "source": [
    "len(data_train[0])"
   ]
  },
  {
   "cell_type": "code",
   "execution_count": 33,
   "id": "22fb5e1a",
   "metadata": {
    "execution": {
     "iopub.execute_input": "2022-01-04T16:14:49.301632Z",
     "iopub.status.busy": "2022-01-04T16:14:49.300617Z",
     "iopub.status.idle": "2022-01-04T16:14:49.306247Z",
     "shell.execute_reply": "2022-01-04T16:14:49.306812Z"
    },
    "id": "O7dscVDyR9FR",
    "outputId": "4d999def-57b1-44d4-9845-2d3797aa275b",
    "papermill": {
     "duration": 0.059097,
     "end_time": "2022-01-04T16:14:49.306982",
     "exception": false,
     "start_time": "2022-01-04T16:14:49.247885",
     "status": "completed"
    },
    "tags": []
   },
   "outputs": [
    {
     "data": {
      "text/plain": [
       "162"
      ]
     },
     "execution_count": 33,
     "metadata": {},
     "output_type": "execute_result"
    }
   ],
   "source": [
    "len(data_train[1])"
   ]
  },
  {
   "cell_type": "code",
   "execution_count": 34,
   "id": "296606a5",
   "metadata": {
    "execution": {
     "iopub.execute_input": "2022-01-04T16:14:49.411703Z",
     "iopub.status.busy": "2022-01-04T16:14:49.410725Z",
     "iopub.status.idle": "2022-01-04T16:14:49.416006Z",
     "shell.execute_reply": "2022-01-04T16:14:49.416608Z"
    },
    "id": "U97ApoWbo-rp",
    "outputId": "3fc3b5e9-d1ff-46a0-e63a-f46353ca334f",
    "papermill": {
     "duration": 0.059383,
     "end_time": "2022-01-04T16:14:49.416780",
     "exception": false,
     "start_time": "2022-01-04T16:14:49.357397",
     "status": "completed"
    },
    "tags": []
   },
   "outputs": [
    {
     "data": {
      "text/plain": [
       "(3733, 162)"
      ]
     },
     "execution_count": 34,
     "metadata": {},
     "output_type": "execute_result"
    }
   ],
   "source": [
    "data_train.shape"
   ]
  },
  {
   "cell_type": "code",
   "execution_count": 35,
   "id": "580b84d3",
   "metadata": {
    "execution": {
     "iopub.execute_input": "2022-01-04T16:14:49.522880Z",
     "iopub.status.busy": "2022-01-04T16:14:49.521219Z",
     "iopub.status.idle": "2022-01-04T16:14:49.525080Z",
     "shell.execute_reply": "2022-01-04T16:14:49.525664Z"
    },
    "id": "0Dr1EIPPSdHI",
    "papermill": {
     "duration": 0.057783,
     "end_time": "2022-01-04T16:14:49.525853",
     "exception": false,
     "start_time": "2022-01-04T16:14:49.468070",
     "status": "completed"
    },
    "tags": []
   },
   "outputs": [],
   "source": [
    "#set the value of T to get sequence length\n",
    "T=data_train.shape[1]"
   ]
  },
  {
   "cell_type": "code",
   "execution_count": 36,
   "id": "3ce8836e",
   "metadata": {
    "execution": {
     "iopub.execute_input": "2022-01-04T16:14:49.632153Z",
     "iopub.status.busy": "2022-01-04T16:14:49.631139Z",
     "iopub.status.idle": "2022-01-04T16:14:49.636426Z",
     "shell.execute_reply": "2022-01-04T16:14:49.637152Z"
    },
    "id": "R6yoIfyUTWcQ",
    "outputId": "687d4d2f-27dc-4501-f42f-4aa162414c77",
    "papermill": {
     "duration": 0.059598,
     "end_time": "2022-01-04T16:14:49.637380",
     "exception": false,
     "start_time": "2022-01-04T16:14:49.577782",
     "status": "completed"
    },
    "tags": []
   },
   "outputs": [
    {
     "name": "stdout",
     "output_type": "stream",
     "text": [
      "162\n"
     ]
    }
   ],
   "source": [
    "print(T)"
   ]
  },
  {
   "cell_type": "code",
   "execution_count": 37,
   "id": "bdfefe46",
   "metadata": {
    "execution": {
     "iopub.execute_input": "2022-01-04T16:14:49.744139Z",
     "iopub.status.busy": "2022-01-04T16:14:49.743511Z",
     "iopub.status.idle": "2022-01-04T16:14:49.767728Z",
     "shell.execute_reply": "2022-01-04T16:14:49.768260Z"
    },
    "id": "cyGHy3p1TYrP",
    "papermill": {
     "duration": 0.079096,
     "end_time": "2022-01-04T16:14:49.768460",
     "exception": false,
     "start_time": "2022-01-04T16:14:49.689364",
     "status": "completed"
    },
    "tags": []
   },
   "outputs": [],
   "source": [
    "#pad the test set\n",
    "data_test=pad_sequences(sequences_test,maxlen=T)"
   ]
  },
  {
   "cell_type": "code",
   "execution_count": 38,
   "id": "6df26b4d",
   "metadata": {
    "execution": {
     "iopub.execute_input": "2022-01-04T16:14:49.876304Z",
     "iopub.status.busy": "2022-01-04T16:14:49.875670Z",
     "iopub.status.idle": "2022-01-04T16:14:49.881026Z",
     "shell.execute_reply": "2022-01-04T16:14:49.880507Z"
    },
    "id": "Jdkm71qwTsNG",
    "outputId": "c0bf4f45-88d5-4948-d508-2f91887a8a9e",
    "papermill": {
     "duration": 0.060299,
     "end_time": "2022-01-04T16:14:49.881168",
     "exception": false,
     "start_time": "2022-01-04T16:14:49.820869",
     "status": "completed"
    },
    "tags": []
   },
   "outputs": [
    {
     "data": {
      "text/plain": [
       "(1839, 162)"
      ]
     },
     "execution_count": 38,
     "metadata": {},
     "output_type": "execute_result"
    }
   ],
   "source": [
    "data_test.shape"
   ]
  },
  {
   "cell_type": "code",
   "execution_count": 39,
   "id": "92c7782f",
   "metadata": {
    "execution": {
     "iopub.execute_input": "2022-01-04T16:14:49.991852Z",
     "iopub.status.busy": "2022-01-04T16:14:49.991182Z",
     "iopub.status.idle": "2022-01-04T16:14:49.993866Z",
     "shell.execute_reply": "2022-01-04T16:14:49.994338Z"
    },
    "id": "6eAtDBWITv-P",
    "papermill": {
     "duration": 0.059676,
     "end_time": "2022-01-04T16:14:49.994525",
     "exception": false,
     "start_time": "2022-01-04T16:14:49.934849",
     "status": "completed"
    },
    "tags": []
   },
   "outputs": [],
   "source": [
    "#Build the model\n",
    "#create the model\n",
    "#choose the embedding dimensionality\n"
   ]
  },
  {
   "cell_type": "code",
   "execution_count": 40,
   "id": "9595f673",
   "metadata": {
    "execution": {
     "iopub.execute_input": "2022-01-04T16:14:50.105095Z",
     "iopub.status.busy": "2022-01-04T16:14:50.104214Z",
     "iopub.status.idle": "2022-01-04T16:14:50.107239Z",
     "shell.execute_reply": "2022-01-04T16:14:50.106650Z"
    },
    "id": "rcrLlFVbT36A",
    "papermill": {
     "duration": 0.060093,
     "end_time": "2022-01-04T16:14:50.107375",
     "exception": false,
     "start_time": "2022-01-04T16:14:50.047282",
     "status": "completed"
    },
    "tags": []
   },
   "outputs": [],
   "source": [
    "D=20 #This is a hyper parameter, we can choose any word vector size that we want"
   ]
  },
  {
   "cell_type": "code",
   "execution_count": 41,
   "id": "6cab8344",
   "metadata": {
    "execution": {
     "iopub.execute_input": "2022-01-04T16:14:50.217894Z",
     "iopub.status.busy": "2022-01-04T16:14:50.217199Z",
     "iopub.status.idle": "2022-01-04T16:14:50.247910Z",
     "shell.execute_reply": "2022-01-04T16:14:50.248414Z"
    },
    "id": "wDS3wxssS1FY",
    "papermill": {
     "duration": 0.089313,
     "end_time": "2022-01-04T16:14:50.248611",
     "exception": false,
     "start_time": "2022-01-04T16:14:50.159298",
     "status": "completed"
    },
    "tags": []
   },
   "outputs": [],
   "source": [
    "#input layer\n",
    "i=Input(shape=(T,))\n",
    "#every single \n",
    "#input layer takes in sequences of integers, So, Shape is T"
   ]
  },
  {
   "cell_type": "code",
   "execution_count": 42,
   "id": "85043c50",
   "metadata": {
    "execution": {
     "iopub.execute_input": "2022-01-04T16:14:50.356717Z",
     "iopub.status.busy": "2022-01-04T16:14:50.355708Z",
     "iopub.status.idle": "2022-01-04T16:14:50.432650Z",
     "shell.execute_reply": "2022-01-04T16:14:50.433176Z"
    },
    "id": "VkPPi1j9TqJI",
    "papermill": {
     "duration": 0.13259,
     "end_time": "2022-01-04T16:14:50.433348",
     "exception": false,
     "start_time": "2022-01-04T16:14:50.300758",
     "status": "completed"
    },
    "tags": []
   },
   "outputs": [
    {
     "name": "stderr",
     "output_type": "stream",
     "text": [
      "\n",
      "User settings:\n",
      "\n",
      "   KMP_AFFINITY=granularity=fine,verbose,compact,1,0\n",
      "   KMP_BLOCKTIME=0\n",
      "   KMP_DUPLICATE_LIB_OK=True\n",
      "   KMP_INIT_AT_FORK=FALSE\n",
      "   KMP_SETTINGS=1\n",
      "   KMP_WARNINGS=0\n",
      "\n",
      "Effective settings:\n",
      "\n",
      "   KMP_ABORT_DELAY=0\n",
      "   KMP_ADAPTIVE_LOCK_PROPS='1,1024'\n",
      "   KMP_ALIGN_ALLOC=64\n",
      "   KMP_ALL_THREADPRIVATE=128\n",
      "   KMP_ATOMIC_MODE=2\n",
      "   KMP_BLOCKTIME=0\n",
      "   KMP_CPUINFO_FILE: value is not defined\n",
      "   KMP_DETERMINISTIC_REDUCTION=false\n",
      "   KMP_DEVICE_THREAD_LIMIT=2147483647\n",
      "   KMP_DISP_NUM_BUFFERS=7\n",
      "   KMP_DUPLICATE_LIB_OK=true\n",
      "   KMP_ENABLE_TASK_THROTTLING=true\n",
      "   KMP_FORCE_REDUCTION: value is not defined\n",
      "   KMP_FOREIGN_THREADS_THREADPRIVATE=true\n",
      "   KMP_FORKJOIN_BARRIER='2,2'\n",
      "   KMP_FORKJOIN_BARRIER_PATTERN='hyper,hyper'\n",
      "   KMP_GTID_MODE=3\n",
      "   KMP_HANDLE_SIGNALS=false\n",
      "   KMP_HOT_TEAMS_MAX_LEVEL=1\n",
      "   KMP_HOT_TEAMS_MODE=0\n",
      "   KMP_INIT_AT_FORK=true\n",
      "   KMP_LIBRARY=throughput\n",
      "   KMP_LOCK_KIND=queuing\n",
      "   KMP_MALLOC_POOL_INCR=1M\n",
      "   KMP_NUM_LOCKS_IN_BLOCK=1\n",
      "   KMP_PLAIN_BARRIER='2,2'\n",
      "   KMP_PLAIN_BARRIER_PATTERN='hyper,hyper'\n",
      "   KMP_REDUCTION_BARRIER='1,1'\n",
      "   KMP_REDUCTION_BARRIER_PATTERN='hyper,hyper'\n",
      "   KMP_SCHEDULE='static,balanced;guided,iterative'\n",
      "   KMP_SETTINGS=true\n",
      "   KMP_SPIN_BACKOFF_PARAMS='4096,100'\n",
      "   KMP_STACKOFFSET=64\n",
      "   KMP_STACKPAD=0\n",
      "   KMP_STACKSIZE=8M\n",
      "   KMP_STORAGE_MAP=false\n",
      "   KMP_TASKING=2\n",
      "   KMP_TASKLOOP_MIN_TASKS=0\n",
      "   KMP_TASK_STEALING_CONSTRAINT=1\n",
      "   KMP_TEAMS_THREAD_LIMIT=4\n",
      "   KMP_TOPOLOGY_METHOD=all\n",
      "   KMP_USE_YIELD=1\n",
      "   KMP_VERSION=false\n",
      "   KMP_WARNINGS=false\n",
      "   OMP_AFFINITY_FORMAT='OMP: pid %P tid %i thread %n bound to OS proc set {%A}'\n",
      "   OMP_ALLOCATOR=omp_default_mem_alloc\n",
      "   OMP_CANCELLATION=false\n",
      "   OMP_DEFAULT_DEVICE=0\n",
      "   OMP_DISPLAY_AFFINITY=false\n",
      "   OMP_DISPLAY_ENV=false\n",
      "   OMP_DYNAMIC=false\n",
      "   OMP_MAX_ACTIVE_LEVELS=1\n",
      "   OMP_MAX_TASK_PRIORITY=0\n",
      "   OMP_NESTED: deprecated; max-active-levels-var=1\n",
      "   OMP_NUM_THREADS: value is not defined\n",
      "   OMP_PLACES: value is not defined\n",
      "   OMP_PROC_BIND='intel'\n",
      "   OMP_SCHEDULE='static'\n",
      "   OMP_STACKSIZE=8M\n",
      "   OMP_TARGET_OFFLOAD=DEFAULT\n",
      "   OMP_THREAD_LIMIT=2147483647\n",
      "   OMP_WAIT_POLICY=PASSIVE\n",
      "   KMP_AFFINITY='verbose,warnings,respect,granularity=fine,compact,1,0'\n",
      "\n",
      "2022-01-04 16:14:50.379109: I tensorflow/core/common_runtime/process_util.cc:146] Creating new thread pool with default inter op setting: 2. Tune using inter_op_parallelism_threads for best performance.\n"
     ]
    }
   ],
   "source": [
    "#Embedding layer\n",
    "x=Embedding(V+1,D)(i)\n",
    "# This takes in sequences of integers and returns sequences of word vectors\n",
    "#this will be N * T * D array\n",
    "# We want size of embedding to (V+1) * D because the word index start from 1 and not 0 "
   ]
  },
  {
   "cell_type": "code",
   "execution_count": 43,
   "id": "e4e2075b",
   "metadata": {
    "execution": {
     "iopub.execute_input": "2022-01-04T16:14:50.548108Z",
     "iopub.status.busy": "2022-01-04T16:14:50.547400Z",
     "iopub.status.idle": "2022-01-04T16:14:50.575888Z",
     "shell.execute_reply": "2022-01-04T16:14:50.576401Z"
    },
    "id": "lJKu_7ZoXgDt",
    "papermill": {
     "duration": 0.090593,
     "end_time": "2022-01-04T16:14:50.576605",
     "exception": false,
     "start_time": "2022-01-04T16:14:50.486012",
     "status": "completed"
    },
    "tags": []
   },
   "outputs": [],
   "source": [
    "## First CNN layer\n",
    "x=Conv1D(32,3,activation='relu')(x)\n",
    "x=MaxPooling1D(3)(x)"
   ]
  },
  {
   "cell_type": "code",
   "execution_count": 44,
   "id": "c591b2ee",
   "metadata": {
    "execution": {
     "iopub.execute_input": "2022-01-04T16:14:50.685170Z",
     "iopub.status.busy": "2022-01-04T16:14:50.684559Z",
     "iopub.status.idle": "2022-01-04T16:14:50.704759Z",
     "shell.execute_reply": "2022-01-04T16:14:50.705286Z"
    },
    "id": "FvDPk6dbY2YS",
    "papermill": {
     "duration": 0.076106,
     "end_time": "2022-01-04T16:14:50.705478",
     "exception": false,
     "start_time": "2022-01-04T16:14:50.629372",
     "status": "completed"
    },
    "tags": []
   },
   "outputs": [],
   "source": [
    "## 2nd CNN layer\n",
    "x=Conv1D(64,3,activation='relu')(x)\n",
    "x=MaxPooling1D(3)(x)"
   ]
  },
  {
   "cell_type": "code",
   "execution_count": 45,
   "id": "fc9a6608",
   "metadata": {
    "execution": {
     "iopub.execute_input": "2022-01-04T16:14:50.814301Z",
     "iopub.status.busy": "2022-01-04T16:14:50.813694Z",
     "iopub.status.idle": "2022-01-04T16:14:50.832260Z",
     "shell.execute_reply": "2022-01-04T16:14:50.832773Z"
    },
    "id": "Qwhr5TDyZHGl",
    "papermill": {
     "duration": 0.07471,
     "end_time": "2022-01-04T16:14:50.832976",
     "exception": false,
     "start_time": "2022-01-04T16:14:50.758266",
     "status": "completed"
    },
    "tags": []
   },
   "outputs": [],
   "source": [
    "## 3rd CNN layer\n",
    "x=Conv1D(128,3,activation='relu')(x)\n",
    "x=GlobalMaxPool1D()(x)"
   ]
  },
  {
   "cell_type": "code",
   "execution_count": 46,
   "id": "07873def",
   "metadata": {
    "execution": {
     "iopub.execute_input": "2022-01-04T16:14:50.946706Z",
     "iopub.status.busy": "2022-01-04T16:14:50.946044Z",
     "iopub.status.idle": "2022-01-04T16:14:50.954920Z",
     "shell.execute_reply": "2022-01-04T16:14:50.955375Z"
    },
    "id": "3nGdeyeiZSEt",
    "papermill": {
     "duration": 0.068807,
     "end_time": "2022-01-04T16:14:50.955580",
     "exception": false,
     "start_time": "2022-01-04T16:14:50.886773",
     "status": "completed"
    },
    "tags": []
   },
   "outputs": [],
   "source": [
    "#Dense Layer\n",
    "x=Dense(1, activation='sigmoid')(x)"
   ]
  },
  {
   "cell_type": "code",
   "execution_count": 47,
   "id": "86471f0a",
   "metadata": {
    "execution": {
     "iopub.execute_input": "2022-01-04T16:14:51.074650Z",
     "iopub.status.busy": "2022-01-04T16:14:51.073650Z",
     "iopub.status.idle": "2022-01-04T16:14:51.079843Z",
     "shell.execute_reply": "2022-01-04T16:14:51.079171Z"
    },
    "id": "nkSYa24HZ4do",
    "papermill": {
     "duration": 0.070105,
     "end_time": "2022-01-04T16:14:51.079988",
     "exception": false,
     "start_time": "2022-01-04T16:14:51.009883",
     "status": "completed"
    },
    "tags": []
   },
   "outputs": [],
   "source": [
    "model=Model(i,x)"
   ]
  },
  {
   "cell_type": "code",
   "execution_count": 48,
   "id": "ba5ccc23",
   "metadata": {
    "execution": {
     "iopub.execute_input": "2022-01-04T16:14:51.195885Z",
     "iopub.status.busy": "2022-01-04T16:14:51.195206Z",
     "iopub.status.idle": "2022-01-04T16:14:51.206247Z",
     "shell.execute_reply": "2022-01-04T16:14:51.205687Z"
    },
    "id": "9LovKU3hZ9Oo",
    "papermill": {
     "duration": 0.072871,
     "end_time": "2022-01-04T16:14:51.206447",
     "exception": false,
     "start_time": "2022-01-04T16:14:51.133576",
     "status": "completed"
    },
    "tags": []
   },
   "outputs": [],
   "source": [
    "# Compile the model\n",
    "model.compile(optimizer='adam',loss='binary_crossentropy',metrics=['accuracy'])\n",
    "#Adam (Adaptive Moment Estimation) works with momentums of first and second order. \n",
    "#The intuition behind the Adam is that we don’t want to roll so fast just because\n",
    "# we can jump over the minimum, we want to decrease the velocity a little bit for a careful search. \n",
    "#In addition to storing an exponentially decaying average of past squared gradients like AdaDelta,\n",
    "# Adam also keeps an exponentially decaying average of past gradients M(t)."
   ]
  },
  {
   "cell_type": "code",
   "execution_count": 49,
   "id": "bb157edc",
   "metadata": {
    "execution": {
     "iopub.execute_input": "2022-01-04T16:14:51.318133Z",
     "iopub.status.busy": "2022-01-04T16:14:51.317529Z",
     "iopub.status.idle": "2022-01-04T16:15:02.651247Z",
     "shell.execute_reply": "2022-01-04T16:15:02.650658Z"
    },
    "id": "NZu7FKjscFTt",
    "outputId": "1b233bcb-9078-453a-ed15-8dbece94546e",
    "papermill": {
     "duration": 11.391251,
     "end_time": "2022-01-04T16:15:02.651387",
     "exception": false,
     "start_time": "2022-01-04T16:14:51.260136",
     "status": "completed"
    },
    "tags": []
   },
   "outputs": [
    {
     "name": "stderr",
     "output_type": "stream",
     "text": [
      "2022-01-04 16:14:51.397123: I tensorflow/compiler/mlir/mlir_graph_optimization_pass.cc:185] None of the MLIR Optimization Passes are enabled (registered 2)\n"
     ]
    },
    {
     "name": "stdout",
     "output_type": "stream",
     "text": [
      "Epoch 1/5\n",
      "117/117 [==============================] - 3s 14ms/step - loss: 0.3828 - accuracy: 0.8628 - val_loss: 0.2879 - val_accuracy: 0.8581\n",
      "Epoch 2/5\n",
      "117/117 [==============================] - 1s 12ms/step - loss: 0.1195 - accuracy: 0.9529 - val_loss: 0.0686 - val_accuracy: 0.9853\n",
      "Epoch 3/5\n",
      "117/117 [==============================] - 1s 12ms/step - loss: 0.0181 - accuracy: 0.9949 - val_loss: 0.0570 - val_accuracy: 0.9859\n",
      "Epoch 4/5\n",
      "117/117 [==============================] - 1s 12ms/step - loss: 0.0051 - accuracy: 0.9995 - val_loss: 0.0607 - val_accuracy: 0.9880\n",
      "Epoch 5/5\n",
      "117/117 [==============================] - 1s 12ms/step - loss: 0.0024 - accuracy: 0.9997 - val_loss: 0.0722 - val_accuracy: 0.9869\n"
     ]
    }
   ],
   "source": [
    "#train the model\n",
    "r=model.fit(x=data_train,y=y_train,epochs=5,validation_data=(data_test,y_test))"
   ]
  },
  {
   "cell_type": "code",
   "execution_count": 50,
   "id": "e4ed66d4",
   "metadata": {
    "execution": {
     "iopub.execute_input": "2022-01-04T16:15:02.831334Z",
     "iopub.status.busy": "2022-01-04T16:15:02.830736Z",
     "iopub.status.idle": "2022-01-04T16:15:02.833488Z",
     "shell.execute_reply": "2022-01-04T16:15:02.834046Z"
    },
    "id": "5nk05MxfcgES",
    "papermill": {
     "duration": 0.09423,
     "end_time": "2022-01-04T16:15:02.834204",
     "exception": false,
     "start_time": "2022-01-04T16:15:02.739974",
     "status": "completed"
    },
    "tags": []
   },
   "outputs": [],
   "source": [
    "#The batch size is a number of samples processed before the model is updated.\n",
    "\n",
    "#The number of epochs is the number of complete passes through the training dataset."
   ]
  },
  {
   "cell_type": "code",
   "execution_count": 51,
   "id": "80f45948",
   "metadata": {
    "execution": {
     "iopub.execute_input": "2022-01-04T16:15:03.014467Z",
     "iopub.status.busy": "2022-01-04T16:15:03.013859Z",
     "iopub.status.idle": "2022-01-04T16:15:03.265406Z",
     "shell.execute_reply": "2022-01-04T16:15:03.264850Z"
    },
    "id": "QBnyoJn3dyy9",
    "outputId": "2c55dfeb-ac7c-4e52-8746-f517d6e8df47",
    "papermill": {
     "duration": 0.342902,
     "end_time": "2022-01-04T16:15:03.265563",
     "exception": false,
     "start_time": "2022-01-04T16:15:02.922661",
     "status": "completed"
    },
    "tags": []
   },
   "outputs": [
    {
     "data": {
      "text/plain": [
       "[<matplotlib.lines.Line2D at 0x7efd57f90910>]"
      ]
     },
     "execution_count": 51,
     "metadata": {},
     "output_type": "execute_result"
    },
    {
     "data": {
      "image/png": "[encoded data removed]",
      "text/plain": [
       "<Figure size 432x288 with 1 Axes>"
      ]
     },
     "metadata": {
      "needs_background": "light"
     },
     "output_type": "display_data"
    }
   ],
   "source": [
    "#Accuracy per iteration\n",
    "import matplotlib.pyplot as plt\n",
    "plt.plot(r.history['accuracy'],label='Accuracy')\n",
    "plt.plot(r.history['val_accuracy'],label='validation accuracy')"
   ]
  },
  {
   "cell_type": "code",
   "execution_count": 52,
   "id": "328e4316",
   "metadata": {
    "execution": {
     "iopub.execute_input": "2022-01-04T16:15:03.495563Z",
     "iopub.status.busy": "2022-01-04T16:15:03.494851Z",
     "iopub.status.idle": "2022-01-04T16:15:03.506655Z",
     "shell.execute_reply": "2022-01-04T16:15:03.507155Z"
    },
    "id": "z9zdGOA2e5lt",
    "papermill": {
     "duration": 0.128739,
     "end_time": "2022-01-04T16:15:03.507324",
     "exception": false,
     "start_time": "2022-01-04T16:15:03.378585",
     "status": "completed"
    },
    "tags": []
   },
   "outputs": [],
   "source": [
    "#RNN\n",
    "y=Embedding(V+1,D)(i)"
   ]
  },
  {
   "cell_type": "code",
   "execution_count": 53,
   "id": "fa0fef8f",
   "metadata": {
    "execution": {
     "iopub.execute_input": "2022-01-04T16:15:03.691727Z",
     "iopub.status.busy": "2022-01-04T16:15:03.691076Z",
     "iopub.status.idle": "2022-01-04T16:15:03.692686Z",
     "shell.execute_reply": "2022-01-04T16:15:03.693243Z"
    },
    "id": "nXSqeIMtrxLV",
    "papermill": {
     "duration": 0.095905,
     "end_time": "2022-01-04T16:15:03.693395",
     "exception": false,
     "start_time": "2022-01-04T16:15:03.597490",
     "status": "completed"
    },
    "tags": []
   },
   "outputs": [],
   "source": [
    "M=15\n",
    "#hidden state vectorize(dimensionality)\n"
   ]
  },
  {
   "cell_type": "code",
   "execution_count": 54,
   "id": "e6298209",
   "metadata": {
    "execution": {
     "iopub.execute_input": "2022-01-04T16:15:03.876408Z",
     "iopub.status.busy": "2022-01-04T16:15:03.875830Z",
     "iopub.status.idle": "2022-01-04T16:15:04.125628Z",
     "shell.execute_reply": "2022-01-04T16:15:04.125091Z"
    },
    "id": "bDpsfWjVr6Cm",
    "papermill": {
     "duration": 0.342355,
     "end_time": "2022-01-04T16:15:04.125774",
     "exception": false,
     "start_time": "2022-01-04T16:15:03.783419",
     "status": "completed"
    },
    "tags": []
   },
   "outputs": [],
   "source": [
    "## First CNN layer\n",
    "y=LSTM(M,return_sequences=True)(y)\n",
    "y=GlobalMaxPool1D()(y) \n"
   ]
  },
  {
   "cell_type": "code",
   "execution_count": 55,
   "id": "5bd2af22",
   "metadata": {
    "execution": {
     "iopub.execute_input": "2022-01-04T16:15:04.314557Z",
     "iopub.status.busy": "2022-01-04T16:15:04.313848Z",
     "iopub.status.idle": "2022-01-04T16:15:04.326306Z",
     "shell.execute_reply": "2022-01-04T16:15:04.326887Z"
    },
    "id": "DHUZnVwRsIhA",
    "papermill": {
     "duration": 0.107529,
     "end_time": "2022-01-04T16:15:04.327064",
     "exception": false,
     "start_time": "2022-01-04T16:15:04.219535",
     "status": "completed"
    },
    "tags": []
   },
   "outputs": [],
   "source": [
    "y=Dense(1,activation='sigmoid')(y)\n"
   ]
  },
  {
   "cell_type": "code",
   "execution_count": 56,
   "id": "11c15550",
   "metadata": {
    "execution": {
     "iopub.execute_input": "2022-01-04T16:15:04.511186Z",
     "iopub.status.busy": "2022-01-04T16:15:04.510590Z",
     "iopub.status.idle": "2022-01-04T16:15:04.517294Z",
     "shell.execute_reply": "2022-01-04T16:15:04.517791Z"
    },
    "id": "xZmeL_TJsx6s",
    "papermill": {
     "duration": 0.100349,
     "end_time": "2022-01-04T16:15:04.517960",
     "exception": false,
     "start_time": "2022-01-04T16:15:04.417611",
     "status": "completed"
    },
    "tags": []
   },
   "outputs": [],
   "source": [
    "model=Model(i,y)"
   ]
  },
  {
   "cell_type": "code",
   "execution_count": 57,
   "id": "79455b2c",
   "metadata": {
    "execution": {
     "iopub.execute_input": "2022-01-04T16:15:04.702274Z",
     "iopub.status.busy": "2022-01-04T16:15:04.701674Z",
     "iopub.status.idle": "2022-01-04T16:15:04.710246Z",
     "shell.execute_reply": "2022-01-04T16:15:04.710758Z"
    },
    "id": "zgCxwd2os2jq",
    "papermill": {
     "duration": 0.101935,
     "end_time": "2022-01-04T16:15:04.710929",
     "exception": false,
     "start_time": "2022-01-04T16:15:04.608994",
     "status": "completed"
    },
    "tags": []
   },
   "outputs": [],
   "source": [
    "# Compile the model\n",
    "model.compile(optimizer='adam',loss='binary_crossentropy',metrics=['accuracy'])"
   ]
  },
  {
   "cell_type": "code",
   "execution_count": 58,
   "id": "ce84480a",
   "metadata": {
    "execution": {
     "iopub.execute_input": "2022-01-04T16:15:04.896151Z",
     "iopub.status.busy": "2022-01-04T16:15:04.895418Z",
     "iopub.status.idle": "2022-01-04T16:16:28.851137Z",
     "shell.execute_reply": "2022-01-04T16:16:28.850324Z"
    },
    "id": "rXHpLBoPs72s",
    "outputId": "0df97b83-6557-4d24-c259-88f76d585313",
    "papermill": {
     "duration": 84.049138,
     "end_time": "2022-01-04T16:16:28.851320",
     "exception": false,
     "start_time": "2022-01-04T16:15:04.802182",
     "status": "completed"
    },
    "tags": []
   },
   "outputs": [
    {
     "name": "stdout",
     "output_type": "stream",
     "text": [
      "Epoch 1/10\n",
      "117/117 [==============================] - 11s 67ms/step - loss: 0.4933 - accuracy: 0.8612 - val_loss: 0.3836 - val_accuracy: 0.8581\n",
      "Epoch 2/10\n",
      "117/117 [==============================] - 8s 66ms/step - loss: 0.3410 - accuracy: 0.8698 - val_loss: 0.3458 - val_accuracy: 0.8581\n",
      "Epoch 3/10\n",
      "117/117 [==============================] - 7s 64ms/step - loss: 0.3136 - accuracy: 0.8698 - val_loss: 0.3243 - val_accuracy: 0.8581\n",
      "Epoch 4/10\n",
      "117/117 [==============================] - 8s 68ms/step - loss: 0.2866 - accuracy: 0.8698 - val_loss: 0.2924 - val_accuracy: 0.8581\n",
      "Epoch 5/10\n",
      "117/117 [==============================] - 8s 65ms/step - loss: 0.2526 - accuracy: 0.8698 - val_loss: 0.2587 - val_accuracy: 0.8581\n",
      "Epoch 6/10\n",
      "117/117 [==============================] - 8s 65ms/step - loss: 0.2174 - accuracy: 0.8698 - val_loss: 0.2222 - val_accuracy: 0.8581\n",
      "Epoch 7/10\n",
      "117/117 [==============================] - 8s 65ms/step - loss: 0.1835 - accuracy: 0.8840 - val_loss: 0.1868 - val_accuracy: 0.9146\n",
      "Epoch 8/10\n",
      "117/117 [==============================] - 8s 66ms/step - loss: 0.1498 - accuracy: 0.9772 - val_loss: 0.1570 - val_accuracy: 0.9630\n",
      "Epoch 9/10\n",
      "117/117 [==============================] - 8s 65ms/step - loss: 0.1210 - accuracy: 0.9885 - val_loss: 0.1328 - val_accuracy: 0.9712\n",
      "Epoch 10/10\n",
      "117/117 [==============================] - 8s 65ms/step - loss: 0.0955 - accuracy: 0.9912 - val_loss: 0.1112 - val_accuracy: 0.9766\n"
     ]
    }
   ],
   "source": [
    "#train the model\n",
    "r=model.fit(x=data_train,y=y_train,epochs=10,validation_data=(data_test,y_test))"
   ]
  },
  {
   "cell_type": "code",
   "execution_count": null,
   "id": "172a6631",
   "metadata": {
    "id": "-jP2k5iGtY89",
    "papermill": {
     "duration": 0.44543,
     "end_time": "2022-01-04T16:16:29.751417",
     "exception": false,
     "start_time": "2022-01-04T16:16:29.305987",
     "status": "completed"
    },
    "tags": []
   },
   "outputs": [],
   "source": []
  }
 ],
 "metadata": {
  "kernelspec": {
   "display_name": "Python 3",
   "language": "python",
   "name": "python3"
  },
  "language_info": {
   "codemirror_mode": {
    "name": "ipython",
    "version": 3
   },
   "file_extension": ".py",
   "mimetype": "text/x-python",
   "name": "python",
   "nbconvert_exporter": "python",
   "pygments_lexer": "ipython3",
   "version": "3.7.12"
  },
  "papermill": {
   "default_parameters": {},
   "duration": 124.924462,
   "end_time": "2022-01-04T16:16:33.264353",
   "environment_variables": {},
   "exception": null,
   "input_path": "__notebook__.ipynb",
   "output_path": "__notebook__.ipynb",
   "parameters": {},
   "start_time": "2022-01-04T16:14:28.339891",
   "version": "2.3.3"
  }
 },
 "nbformat": 4,
 "nbformat_minor": 5
}
